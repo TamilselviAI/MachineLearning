{
 "cells": [
  {
   "cell_type": "code",
   "execution_count": 1,
   "id": "0c94bd7a-e941-4e2d-927a-0fdff2ec5177",
   "metadata": {},
   "outputs": [
    {
     "ename": "ModuleNotFoundError",
     "evalue": "No module named 'adaboost'",
     "output_type": "error",
     "traceback": [
      "\u001b[1;31m---------------------------------------------------------------------------\u001b[0m",
      "\u001b[1;31mModuleNotFoundError\u001b[0m                       Traceback (most recent call last)",
      "Cell \u001b[1;32mIn[1], line 1\u001b[0m\n\u001b[1;32m----> 1\u001b[0m \u001b[38;5;28;01mimport\u001b[39;00m \u001b[38;5;21;01madaboost\u001b[39;00m\n",
      "\u001b[1;31mModuleNotFoundError\u001b[0m: No module named 'adaboost'"
     ]
    }
   ],
   "source": [
    "import adaboost"
   ]
  },
  {
   "cell_type": "code",
   "execution_count": 3,
   "id": "91f8afb7-9ec0-476c-9ee7-d29ba6e10103",
   "metadata": {},
   "outputs": [
    {
     "name": "stdout",
     "output_type": "stream",
     "text": [
      "Collecting ada-boost\n",
      "  Downloading ada_boost-0.0.1-py3-none-any.whl.metadata (219 bytes)\n",
      "Requirement already satisfied: pytz in c:\\anaconda\\lib\\site-packages (from ada-boost) (2024.1)\n",
      "Downloading ada_boost-0.0.1-py3-none-any.whl (1.7 kB)\n",
      "Installing collected packages: ada-boost\n",
      "Successfully installed ada-boost-0.0.1\n"
     ]
    }
   ],
   "source": [
    "!pip install ada-boost"
   ]
  },
  {
   "cell_type": "code",
   "execution_count": 7,
   "id": "65b8ac15-2d32-4547-93c1-afcd8da00484",
   "metadata": {},
   "outputs": [
    {
     "ename": "ModuleNotFoundError",
     "evalue": "No module named 'lgboost'",
     "output_type": "error",
     "traceback": [
      "\u001b[1;31m---------------------------------------------------------------------------\u001b[0m",
      "\u001b[1;31mModuleNotFoundError\u001b[0m                       Traceback (most recent call last)",
      "Cell \u001b[1;32mIn[7], line 1\u001b[0m\n\u001b[1;32m----> 1\u001b[0m \u001b[38;5;28;01mimport\u001b[39;00m \u001b[38;5;21;01mlgboost\u001b[39;00m\n",
      "\u001b[1;31mModuleNotFoundError\u001b[0m: No module named 'lgboost'"
     ]
    }
   ],
   "source": [
    "import lgboost"
   ]
  },
  {
   "cell_type": "code",
   "execution_count": 9,
   "id": "63dc47c1-c0bc-46e7-8293-78a4f3afd170",
   "metadata": {},
   "outputs": [
    {
     "name": "stderr",
     "output_type": "stream",
     "text": [
      "ERROR: Could not find a version that satisfies the requirement lgboost (from versions: none)\n",
      "ERROR: No matching distribution found for lgboost\n"
     ]
    }
   ],
   "source": [
    "!pip install  lgboost"
   ]
  },
  {
   "cell_type": "code",
   "execution_count": null,
   "id": "844c3b5e-d4d5-44e3-b858-3aaa539b3806",
   "metadata": {},
   "outputs": [],
   "source": []
  }
 ],
 "metadata": {
  "kernelspec": {
   "display_name": "Python 3 (ipykernel)",
   "language": "python",
   "name": "python3"
  },
  "language_info": {
   "codemirror_mode": {
    "name": "ipython",
    "version": 3
   },
   "file_extension": ".py",
   "mimetype": "text/x-python",
   "name": "python",
   "nbconvert_exporter": "python",
   "pygments_lexer": "ipython3",
   "version": "3.12.7"
  }
 },
 "nbformat": 4,
 "nbformat_minor": 5
}
