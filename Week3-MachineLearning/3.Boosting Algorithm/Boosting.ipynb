{
 "cells": [
  {
   "cell_type": "code",
   "execution_count": 1,
   "id": "2761db73-1654-4581-ac22-0bfcac04e2dd",
   "metadata": {},
   "outputs": [
    {
     "ename": "ModuleNotFoundError",
     "evalue": "No module named 'xgboost'",
     "output_type": "error",
     "traceback": [
      "\u001b[1;31m---------------------------------------------------------------------------\u001b[0m",
      "\u001b[1;31mModuleNotFoundError\u001b[0m                       Traceback (most recent call last)",
      "Cell \u001b[1;32mIn[1], line 1\u001b[0m\n\u001b[1;32m----> 1\u001b[0m \u001b[38;5;28;01mimport\u001b[39;00m \u001b[38;5;21;01mxgboost\u001b[39;00m\n",
      "\u001b[1;31mModuleNotFoundError\u001b[0m: No module named 'xgboost'"
     ]
    }
   ],
   "source": [
    "import xgboost"
   ]
  },
  {
   "cell_type": "code",
   "execution_count": 2,
   "id": "631abab0-ca53-46c6-9b75-89d7de5fa1e0",
   "metadata": {},
   "outputs": [
    {
     "name": "stdout",
     "output_type": "stream",
     "text": [
      "Collecting xgboost\n",
      "  Downloading xgboost-3.0.2-py3-none-win_amd64.whl.metadata (2.1 kB)\n",
      "Requirement already satisfied: numpy in c:\\anaconda\\lib\\site-packages (from xgboost) (1.26.4)\n",
      "Requirement already satisfied: scipy in c:\\anaconda\\lib\\site-packages (from xgboost) (1.13.1)\n",
      "Downloading xgboost-3.0.2-py3-none-win_amd64.whl (150.0 MB)\n",
      "   ---------------------------------------- 0.0/150.0 MB ? eta -:--:--\n",
      "   - -------------------------------------- 4.7/150.0 MB 28.6 MB/s eta 0:00:06\n",
      "   -- ------------------------------------- 10.7/150.0 MB 29.2 MB/s eta 0:00:05\n",
      "   ---- ----------------------------------- 17.0/150.0 MB 29.9 MB/s eta 0:00:05\n",
      "   ------ --------------------------------- 23.6/150.0 MB 29.9 MB/s eta 0:00:05\n",
      "   ------- -------------------------------- 29.9/150.0 MB 29.6 MB/s eta 0:00:05\n",
      "   -------- ------------------------------- 33.6/150.0 MB 27.7 MB/s eta 0:00:05\n",
      "   ----------- ---------------------------- 41.9/150.0 MB 29.6 MB/s eta 0:00:04\n",
      "   ------------ --------------------------- 48.0/150.0 MB 29.4 MB/s eta 0:00:04\n",
      "   -------------- ------------------------- 54.3/150.0 MB 29.5 MB/s eta 0:00:04\n",
      "   ---------------- ----------------------- 60.8/150.0 MB 29.6 MB/s eta 0:00:04\n",
      "   ----------------- ---------------------- 66.8/150.0 MB 29.6 MB/s eta 0:00:03\n",
      "   ------------------- -------------------- 73.1/150.0 MB 29.5 MB/s eta 0:00:03\n",
      "   --------------------- ------------------ 79.4/150.0 MB 29.5 MB/s eta 0:00:03\n",
      "   ---------------------- ----------------- 85.5/150.0 MB 29.5 MB/s eta 0:00:03\n",
      "   ------------------------ --------------- 91.8/150.0 MB 29.4 MB/s eta 0:00:02\n",
      "   -------------------------- ------------- 98.0/150.0 MB 29.4 MB/s eta 0:00:02\n",
      "   --------------------------- ----------- 104.6/150.0 MB 29.4 MB/s eta 0:00:02\n",
      "   ---------------------------- ---------- 110.9/150.0 MB 29.4 MB/s eta 0:00:02\n",
      "   ------------------------------ -------- 117.2/150.0 MB 29.5 MB/s eta 0:00:02\n",
      "   -------------------------------- ------ 123.5/150.0 MB 29.4 MB/s eta 0:00:01\n",
      "   --------------------------------- ----- 130.3/150.0 MB 29.5 MB/s eta 0:00:01\n",
      "   ----------------------------------- --- 136.8/150.0 MB 29.4 MB/s eta 0:00:01\n",
      "   ------------------------------------- - 143.4/150.0 MB 29.5 MB/s eta 0:00:01\n",
      "   --------------------------------------  149.9/150.0 MB 29.4 MB/s eta 0:00:01\n",
      "   --------------------------------------  149.9/150.0 MB 29.4 MB/s eta 0:00:01\n",
      "   --------------------------------------  149.9/150.0 MB 29.4 MB/s eta 0:00:01\n",
      "   --------------------------------------  149.9/150.0 MB 29.4 MB/s eta 0:00:01\n",
      "   --------------------------------------  149.9/150.0 MB 29.4 MB/s eta 0:00:01\n",
      "   --------------------------------------  149.9/150.0 MB 29.4 MB/s eta 0:00:01\n",
      "   --------------------------------------  149.9/150.0 MB 29.4 MB/s eta 0:00:01\n",
      "   --------------------------------------  149.9/150.0 MB 29.4 MB/s eta 0:00:01\n",
      "   --------------------------------------  149.9/150.0 MB 29.4 MB/s eta 0:00:01\n",
      "   --------------------------------------  149.9/150.0 MB 29.4 MB/s eta 0:00:01\n",
      "   --------------------------------------  149.9/150.0 MB 29.4 MB/s eta 0:00:01\n",
      "   --------------------------------------- 150.0/150.0 MB 19.9 MB/s eta 0:00:00\n",
      "Installing collected packages: xgboost\n",
      "Successfully installed xgboost-3.0.2\n"
     ]
    }
   ],
   "source": [
    "!pip install xgboost"
   ]
  },
  {
   "cell_type": "code",
   "execution_count": 3,
   "id": "66465479-c743-46af-a71e-99860d2f2f22",
   "metadata": {},
   "outputs": [],
   "source": [
    "import xgboost"
   ]
  },
  {
   "cell_type": "code",
   "execution_count": 7,
   "id": "d91d446c-d847-4b55-903b-ee7229926f7a",
   "metadata": {},
   "outputs": [
    {
     "ename": "SyntaxError",
     "evalue": "invalid syntax (1832021586.py, line 1)",
     "output_type": "error",
     "traceback": [
      "\u001b[1;36m  Cell \u001b[1;32mIn[7], line 1\u001b[1;36m\u001b[0m\n\u001b[1;33m    import ada-boost\u001b[0m\n\u001b[1;37m              ^\u001b[0m\n\u001b[1;31mSyntaxError\u001b[0m\u001b[1;31m:\u001b[0m invalid syntax\n"
     ]
    }
   ],
   "source": [
    "import ada-boost"
   ]
  },
  {
   "cell_type": "code",
   "execution_count": 5,
   "id": "31ec1bab-22aa-4574-a83d-d70e7d4567fb",
   "metadata": {},
   "outputs": [
    {
     "name": "stderr",
     "output_type": "stream",
     "text": [
      "ERROR: Could not find a version that satisfies the requirement lgboost (from versions: none)\n",
      "ERROR: No matching distribution found for lgboost\n"
     ]
    }
   ],
   "source": [
    "!pip install ada-boost"
   ]
  },
  {
   "cell_type": "code",
   "execution_count": null,
   "id": "42433ec3-3469-4bfa-a0cd-9b4966ca60fc",
   "metadata": {},
   "outputs": [],
   "source": []
  }
 ],
 "metadata": {
  "kernelspec": {
   "display_name": "Python 3 (ipykernel)",
   "language": "python",
   "name": "python3"
  },
  "language_info": {
   "codemirror_mode": {
    "name": "ipython",
    "version": 3
   },
   "file_extension": ".py",
   "mimetype": "text/x-python",
   "name": "python",
   "nbconvert_exporter": "python",
   "pygments_lexer": "ipython3",
   "version": "3.12.7"
  }
 },
 "nbformat": 4,
 "nbformat_minor": 5
}
