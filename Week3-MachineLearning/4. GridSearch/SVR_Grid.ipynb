{
 "cells": [
  {
   "cell_type": "code",
   "execution_count": 1,
   "id": "ff18d3a2-10bc-47e8-b9aa-608d46fb345a",
   "metadata": {},
   "outputs": [],
   "source": [
    "#import Libraries\n",
    "import pandas as pd\n",
    "import matplotlib.pyplot as plt\n",
    "#Read CSV and loading into Dataset\n",
    "dataset = pd.read_csv('insurance_pre.csv')"
   ]
  },
  {
   "cell_type": "code",
   "execution_count": 2,
   "id": "543be197-f230-422b-ab96-5d1318d1b4e2",
   "metadata": {},
   "outputs": [
    {
     "data": {
      "text/html": [
       "<div>\n",
       "<style scoped>\n",
       "    .dataframe tbody tr th:only-of-type {\n",
       "        vertical-align: middle;\n",
       "    }\n",
       "\n",
       "    .dataframe tbody tr th {\n",
       "        vertical-align: top;\n",
       "    }\n",
       "\n",
       "    .dataframe thead th {\n",
       "        text-align: right;\n",
       "    }\n",
       "</style>\n",
       "<table border=\"1\" class=\"dataframe\">\n",
       "  <thead>\n",
       "    <tr style=\"text-align: right;\">\n",
       "      <th></th>\n",
       "      <th>age</th>\n",
       "      <th>sex</th>\n",
       "      <th>bmi</th>\n",
       "      <th>children</th>\n",
       "      <th>smoker</th>\n",
       "      <th>charges</th>\n",
       "    </tr>\n",
       "  </thead>\n",
       "  <tbody>\n",
       "    <tr>\n",
       "      <th>0</th>\n",
       "      <td>19</td>\n",
       "      <td>female</td>\n",
       "      <td>27.900</td>\n",
       "      <td>0</td>\n",
       "      <td>yes</td>\n",
       "      <td>16884.92400</td>\n",
       "    </tr>\n",
       "    <tr>\n",
       "      <th>1</th>\n",
       "      <td>18</td>\n",
       "      <td>male</td>\n",
       "      <td>33.770</td>\n",
       "      <td>1</td>\n",
       "      <td>no</td>\n",
       "      <td>1725.55230</td>\n",
       "    </tr>\n",
       "    <tr>\n",
       "      <th>2</th>\n",
       "      <td>28</td>\n",
       "      <td>male</td>\n",
       "      <td>33.000</td>\n",
       "      <td>3</td>\n",
       "      <td>no</td>\n",
       "      <td>4449.46200</td>\n",
       "    </tr>\n",
       "    <tr>\n",
       "      <th>3</th>\n",
       "      <td>33</td>\n",
       "      <td>male</td>\n",
       "      <td>22.705</td>\n",
       "      <td>0</td>\n",
       "      <td>no</td>\n",
       "      <td>21984.47061</td>\n",
       "    </tr>\n",
       "    <tr>\n",
       "      <th>4</th>\n",
       "      <td>32</td>\n",
       "      <td>male</td>\n",
       "      <td>28.880</td>\n",
       "      <td>0</td>\n",
       "      <td>no</td>\n",
       "      <td>3866.85520</td>\n",
       "    </tr>\n",
       "    <tr>\n",
       "      <th>...</th>\n",
       "      <td>...</td>\n",
       "      <td>...</td>\n",
       "      <td>...</td>\n",
       "      <td>...</td>\n",
       "      <td>...</td>\n",
       "      <td>...</td>\n",
       "    </tr>\n",
       "    <tr>\n",
       "      <th>1333</th>\n",
       "      <td>50</td>\n",
       "      <td>male</td>\n",
       "      <td>30.970</td>\n",
       "      <td>3</td>\n",
       "      <td>no</td>\n",
       "      <td>10600.54830</td>\n",
       "    </tr>\n",
       "    <tr>\n",
       "      <th>1334</th>\n",
       "      <td>18</td>\n",
       "      <td>female</td>\n",
       "      <td>31.920</td>\n",
       "      <td>0</td>\n",
       "      <td>no</td>\n",
       "      <td>2205.98080</td>\n",
       "    </tr>\n",
       "    <tr>\n",
       "      <th>1335</th>\n",
       "      <td>18</td>\n",
       "      <td>female</td>\n",
       "      <td>36.850</td>\n",
       "      <td>0</td>\n",
       "      <td>no</td>\n",
       "      <td>1629.83350</td>\n",
       "    </tr>\n",
       "    <tr>\n",
       "      <th>1336</th>\n",
       "      <td>21</td>\n",
       "      <td>female</td>\n",
       "      <td>25.800</td>\n",
       "      <td>0</td>\n",
       "      <td>no</td>\n",
       "      <td>2007.94500</td>\n",
       "    </tr>\n",
       "    <tr>\n",
       "      <th>1337</th>\n",
       "      <td>61</td>\n",
       "      <td>female</td>\n",
       "      <td>29.070</td>\n",
       "      <td>0</td>\n",
       "      <td>yes</td>\n",
       "      <td>29141.36030</td>\n",
       "    </tr>\n",
       "  </tbody>\n",
       "</table>\n",
       "<p>1338 rows × 6 columns</p>\n",
       "</div>"
      ],
      "text/plain": [
       "      age     sex     bmi  children smoker      charges\n",
       "0      19  female  27.900         0    yes  16884.92400\n",
       "1      18    male  33.770         1     no   1725.55230\n",
       "2      28    male  33.000         3     no   4449.46200\n",
       "3      33    male  22.705         0     no  21984.47061\n",
       "4      32    male  28.880         0     no   3866.85520\n",
       "...   ...     ...     ...       ...    ...          ...\n",
       "1333   50    male  30.970         3     no  10600.54830\n",
       "1334   18  female  31.920         0     no   2205.98080\n",
       "1335   18  female  36.850         0     no   1629.83350\n",
       "1336   21  female  25.800         0     no   2007.94500\n",
       "1337   61  female  29.070         0    yes  29141.36030\n",
       "\n",
       "[1338 rows x 6 columns]"
      ]
     },
     "execution_count": 2,
     "metadata": {},
     "output_type": "execute_result"
    }
   ],
   "source": [
    "dataset"
   ]
  },
  {
   "cell_type": "code",
   "execution_count": 3,
   "id": "a95057b5-f741-484d-a828-a99ceaa849c1",
   "metadata": {},
   "outputs": [],
   "source": [
    "# change categorical into Nominal\n",
    "datanomin = pd.get_dummies (dataset, dtype=int, drop_first = True)"
   ]
  },
  {
   "cell_type": "code",
   "execution_count": 4,
   "id": "a377fc8e-4d9d-416e-8ed4-ce0812d85dc9",
   "metadata": {},
   "outputs": [
    {
     "data": {
      "text/html": [
       "<div>\n",
       "<style scoped>\n",
       "    .dataframe tbody tr th:only-of-type {\n",
       "        vertical-align: middle;\n",
       "    }\n",
       "\n",
       "    .dataframe tbody tr th {\n",
       "        vertical-align: top;\n",
       "    }\n",
       "\n",
       "    .dataframe thead th {\n",
       "        text-align: right;\n",
       "    }\n",
       "</style>\n",
       "<table border=\"1\" class=\"dataframe\">\n",
       "  <thead>\n",
       "    <tr style=\"text-align: right;\">\n",
       "      <th></th>\n",
       "      <th>age</th>\n",
       "      <th>bmi</th>\n",
       "      <th>children</th>\n",
       "      <th>charges</th>\n",
       "      <th>sex_male</th>\n",
       "      <th>smoker_yes</th>\n",
       "    </tr>\n",
       "  </thead>\n",
       "  <tbody>\n",
       "    <tr>\n",
       "      <th>0</th>\n",
       "      <td>19</td>\n",
       "      <td>27.900</td>\n",
       "      <td>0</td>\n",
       "      <td>16884.92400</td>\n",
       "      <td>0</td>\n",
       "      <td>1</td>\n",
       "    </tr>\n",
       "    <tr>\n",
       "      <th>1</th>\n",
       "      <td>18</td>\n",
       "      <td>33.770</td>\n",
       "      <td>1</td>\n",
       "      <td>1725.55230</td>\n",
       "      <td>1</td>\n",
       "      <td>0</td>\n",
       "    </tr>\n",
       "    <tr>\n",
       "      <th>2</th>\n",
       "      <td>28</td>\n",
       "      <td>33.000</td>\n",
       "      <td>3</td>\n",
       "      <td>4449.46200</td>\n",
       "      <td>1</td>\n",
       "      <td>0</td>\n",
       "    </tr>\n",
       "    <tr>\n",
       "      <th>3</th>\n",
       "      <td>33</td>\n",
       "      <td>22.705</td>\n",
       "      <td>0</td>\n",
       "      <td>21984.47061</td>\n",
       "      <td>1</td>\n",
       "      <td>0</td>\n",
       "    </tr>\n",
       "    <tr>\n",
       "      <th>4</th>\n",
       "      <td>32</td>\n",
       "      <td>28.880</td>\n",
       "      <td>0</td>\n",
       "      <td>3866.85520</td>\n",
       "      <td>1</td>\n",
       "      <td>0</td>\n",
       "    </tr>\n",
       "    <tr>\n",
       "      <th>...</th>\n",
       "      <td>...</td>\n",
       "      <td>...</td>\n",
       "      <td>...</td>\n",
       "      <td>...</td>\n",
       "      <td>...</td>\n",
       "      <td>...</td>\n",
       "    </tr>\n",
       "    <tr>\n",
       "      <th>1333</th>\n",
       "      <td>50</td>\n",
       "      <td>30.970</td>\n",
       "      <td>3</td>\n",
       "      <td>10600.54830</td>\n",
       "      <td>1</td>\n",
       "      <td>0</td>\n",
       "    </tr>\n",
       "    <tr>\n",
       "      <th>1334</th>\n",
       "      <td>18</td>\n",
       "      <td>31.920</td>\n",
       "      <td>0</td>\n",
       "      <td>2205.98080</td>\n",
       "      <td>0</td>\n",
       "      <td>0</td>\n",
       "    </tr>\n",
       "    <tr>\n",
       "      <th>1335</th>\n",
       "      <td>18</td>\n",
       "      <td>36.850</td>\n",
       "      <td>0</td>\n",
       "      <td>1629.83350</td>\n",
       "      <td>0</td>\n",
       "      <td>0</td>\n",
       "    </tr>\n",
       "    <tr>\n",
       "      <th>1336</th>\n",
       "      <td>21</td>\n",
       "      <td>25.800</td>\n",
       "      <td>0</td>\n",
       "      <td>2007.94500</td>\n",
       "      <td>0</td>\n",
       "      <td>0</td>\n",
       "    </tr>\n",
       "    <tr>\n",
       "      <th>1337</th>\n",
       "      <td>61</td>\n",
       "      <td>29.070</td>\n",
       "      <td>0</td>\n",
       "      <td>29141.36030</td>\n",
       "      <td>0</td>\n",
       "      <td>1</td>\n",
       "    </tr>\n",
       "  </tbody>\n",
       "</table>\n",
       "<p>1338 rows × 6 columns</p>\n",
       "</div>"
      ],
      "text/plain": [
       "      age     bmi  children      charges  sex_male  smoker_yes\n",
       "0      19  27.900         0  16884.92400         0           1\n",
       "1      18  33.770         1   1725.55230         1           0\n",
       "2      28  33.000         3   4449.46200         1           0\n",
       "3      33  22.705         0  21984.47061         1           0\n",
       "4      32  28.880         0   3866.85520         1           0\n",
       "...   ...     ...       ...          ...       ...         ...\n",
       "1333   50  30.970         3  10600.54830         1           0\n",
       "1334   18  31.920         0   2205.98080         0           0\n",
       "1335   18  36.850         0   1629.83350         0           0\n",
       "1336   21  25.800         0   2007.94500         0           0\n",
       "1337   61  29.070         0  29141.36030         0           1\n",
       "\n",
       "[1338 rows x 6 columns]"
      ]
     },
     "execution_count": 4,
     "metadata": {},
     "output_type": "execute_result"
    }
   ],
   "source": [
    "datanomin"
   ]
  },
  {
   "cell_type": "code",
   "execution_count": 5,
   "id": "eb429fea-53db-411d-9c08-fd5e41b4fa0a",
   "metadata": {},
   "outputs": [
    {
     "data": {
      "text/plain": [
       "Index(['age', 'bmi', 'children', 'charges', 'sex_male', 'smoker_yes'], dtype='object')"
      ]
     },
     "execution_count": 5,
     "metadata": {},
     "output_type": "execute_result"
    }
   ],
   "source": [
    "# To view the column name after the nominal change\n",
    "datanomin.columns"
   ]
  },
  {
   "cell_type": "code",
   "execution_count": 6,
   "id": "d789f95d-ef9e-4c7c-a352-0aa8e40b7567",
   "metadata": {},
   "outputs": [],
   "source": [
    "independ = datanomin [['age', 'bmi', 'children','sex_male', 'smoker_yes']]\n",
    "depend = datanomin [['charges']]"
   ]
  },
  {
   "cell_type": "code",
   "execution_count": 7,
   "id": "e13f376c-9da7-4927-8a7e-6aa2a22860cc",
   "metadata": {},
   "outputs": [],
   "source": [
    "from sklearn.model_selection import train_test_split\n",
    "X_train, X_test, y_train, y_test = train_test_split(independ, depend, test_size =0.3, random_state =0)"
   ]
  },
  {
   "cell_type": "code",
   "execution_count": 8,
   "id": "cf75fde4-04f0-4248-b081-28f7d0eba7ff",
   "metadata": {},
   "outputs": [],
   "source": [
    "from sklearn.model_selection import GridSearchCV\n",
    "from sklearn.svm import SVR\n",
    "param_grid = {'kernel':['rbf','sigmoid','linear'], 'C': [10,100,300,1000,2000],'gamma': ['auto','scale']}\n",
    "\n",
    "grid = GridSearchCV(SVR(), param_grid, refit =True,verbose=3, n_jobs =1)\n"
   ]
  },
  {
   "cell_type": "code",
   "execution_count": 9,
   "id": "aa1b26da-1c57-433b-9094-15f7393d5485",
   "metadata": {},
   "outputs": [
    {
     "name": "stdout",
     "output_type": "stream",
     "text": [
      "Fitting 5 folds for each of 30 candidates, totalling 150 fits\n",
      "[CV 1/5] END .....C=10, gamma=auto, kernel=rbf;, score=-0.042 total time=   0.0s\n",
      "[CV 2/5] END .....C=10, gamma=auto, kernel=rbf;, score=-0.036 total time=   0.0s\n",
      "[CV 3/5] END .....C=10, gamma=auto, kernel=rbf;, score=-0.147 total time=   0.0s\n"
     ]
    },
    {
     "name": "stderr",
     "output_type": "stream",
     "text": [
      "C:\\Anaconda\\Lib\\site-packages\\sklearn\\utils\\validation.py:1339: DataConversionWarning: A column-vector y was passed when a 1d array was expected. Please change the shape of y to (n_samples, ), for example using ravel().\n",
      "  y = column_or_1d(y, warn=True)\n",
      "C:\\Anaconda\\Lib\\site-packages\\sklearn\\utils\\validation.py:1339: DataConversionWarning: A column-vector y was passed when a 1d array was expected. Please change the shape of y to (n_samples, ), for example using ravel().\n",
      "  y = column_or_1d(y, warn=True)\n",
      "C:\\Anaconda\\Lib\\site-packages\\sklearn\\utils\\validation.py:1339: DataConversionWarning: A column-vector y was passed when a 1d array was expected. Please change the shape of y to (n_samples, ), for example using ravel().\n",
      "  y = column_or_1d(y, warn=True)\n",
      "C:\\Anaconda\\Lib\\site-packages\\sklearn\\utils\\validation.py:1339: DataConversionWarning: A column-vector y was passed when a 1d array was expected. Please change the shape of y to (n_samples, ), for example using ravel().\n",
      "  y = column_or_1d(y, warn=True)\n"
     ]
    },
    {
     "name": "stdout",
     "output_type": "stream",
     "text": [
      "[CV 4/5] END .....C=10, gamma=auto, kernel=rbf;, score=-0.140 total time=   0.0s\n",
      "[CV 5/5] END .....C=10, gamma=auto, kernel=rbf;, score=-0.142 total time=   0.0s\n",
      "[CV 1/5] END .C=10, gamma=auto, kernel=sigmoid;, score=-0.042 total time=   0.0s\n",
      "[CV 2/5] END .C=10, gamma=auto, kernel=sigmoid;, score=-0.038 total time=   0.0s\n",
      "[CV 3/5] END .C=10, gamma=auto, kernel=sigmoid;, score=-0.149 total time=   0.0s\n",
      "[CV 4/5] END .C=10, gamma=auto, kernel=sigmoid;, score=-0.139 total time=   0.0s\n"
     ]
    },
    {
     "name": "stderr",
     "output_type": "stream",
     "text": [
      "C:\\Anaconda\\Lib\\site-packages\\sklearn\\utils\\validation.py:1339: DataConversionWarning: A column-vector y was passed when a 1d array was expected. Please change the shape of y to (n_samples, ), for example using ravel().\n",
      "  y = column_or_1d(y, warn=True)\n",
      "C:\\Anaconda\\Lib\\site-packages\\sklearn\\utils\\validation.py:1339: DataConversionWarning: A column-vector y was passed when a 1d array was expected. Please change the shape of y to (n_samples, ), for example using ravel().\n",
      "  y = column_or_1d(y, warn=True)\n",
      "C:\\Anaconda\\Lib\\site-packages\\sklearn\\utils\\validation.py:1339: DataConversionWarning: A column-vector y was passed when a 1d array was expected. Please change the shape of y to (n_samples, ), for example using ravel().\n",
      "  y = column_or_1d(y, warn=True)\n",
      "C:\\Anaconda\\Lib\\site-packages\\sklearn\\utils\\validation.py:1339: DataConversionWarning: A column-vector y was passed when a 1d array was expected. Please change the shape of y to (n_samples, ), for example using ravel().\n",
      "  y = column_or_1d(y, warn=True)\n",
      "C:\\Anaconda\\Lib\\site-packages\\sklearn\\utils\\validation.py:1339: DataConversionWarning: A column-vector y was passed when a 1d array was expected. Please change the shape of y to (n_samples, ), for example using ravel().\n",
      "  y = column_or_1d(y, warn=True)\n",
      "C:\\Anaconda\\Lib\\site-packages\\sklearn\\utils\\validation.py:1339: DataConversionWarning: A column-vector y was passed when a 1d array was expected. Please change the shape of y to (n_samples, ), for example using ravel().\n",
      "  y = column_or_1d(y, warn=True)\n"
     ]
    },
    {
     "name": "stdout",
     "output_type": "stream",
     "text": [
      "[CV 5/5] END .C=10, gamma=auto, kernel=sigmoid;, score=-0.142 total time=   0.0s\n",
      "[CV 1/5] END ..C=10, gamma=auto, kernel=linear;, score=-0.100 total time=   0.0s\n",
      "[CV 2/5] END ...C=10, gamma=auto, kernel=linear;, score=0.109 total time=   0.0s\n",
      "[CV 3/5] END ..C=10, gamma=auto, kernel=linear;, score=-0.136 total time=   0.0s\n",
      "[CV 4/5] END ..C=10, gamma=auto, kernel=linear;, score=-0.141 total time=   0.0s\n"
     ]
    },
    {
     "name": "stderr",
     "output_type": "stream",
     "text": [
      "C:\\Anaconda\\Lib\\site-packages\\sklearn\\utils\\validation.py:1339: DataConversionWarning: A column-vector y was passed when a 1d array was expected. Please change the shape of y to (n_samples, ), for example using ravel().\n",
      "  y = column_or_1d(y, warn=True)\n",
      "C:\\Anaconda\\Lib\\site-packages\\sklearn\\utils\\validation.py:1339: DataConversionWarning: A column-vector y was passed when a 1d array was expected. Please change the shape of y to (n_samples, ), for example using ravel().\n",
      "  y = column_or_1d(y, warn=True)\n",
      "C:\\Anaconda\\Lib\\site-packages\\sklearn\\utils\\validation.py:1339: DataConversionWarning: A column-vector y was passed when a 1d array was expected. Please change the shape of y to (n_samples, ), for example using ravel().\n",
      "  y = column_or_1d(y, warn=True)\n",
      "C:\\Anaconda\\Lib\\site-packages\\sklearn\\utils\\validation.py:1339: DataConversionWarning: A column-vector y was passed when a 1d array was expected. Please change the shape of y to (n_samples, ), for example using ravel().\n",
      "  y = column_or_1d(y, warn=True)\n",
      "C:\\Anaconda\\Lib\\site-packages\\sklearn\\utils\\validation.py:1339: DataConversionWarning: A column-vector y was passed when a 1d array was expected. Please change the shape of y to (n_samples, ), for example using ravel().\n",
      "  y = column_or_1d(y, warn=True)\n"
     ]
    },
    {
     "name": "stdout",
     "output_type": "stream",
     "text": [
      "[CV 5/5] END ..C=10, gamma=auto, kernel=linear;, score=-0.075 total time=   0.0s\n",
      "[CV 1/5] END ....C=10, gamma=scale, kernel=rbf;, score=-0.045 total time=   0.0s\n",
      "[CV 2/5] END ....C=10, gamma=scale, kernel=rbf;, score=-0.013 total time=   0.0s\n",
      "[CV 3/5] END ....C=10, gamma=scale, kernel=rbf;, score=-0.152 total time=   0.0s\n"
     ]
    },
    {
     "name": "stderr",
     "output_type": "stream",
     "text": [
      "C:\\Anaconda\\Lib\\site-packages\\sklearn\\utils\\validation.py:1339: DataConversionWarning: A column-vector y was passed when a 1d array was expected. Please change the shape of y to (n_samples, ), for example using ravel().\n",
      "  y = column_or_1d(y, warn=True)\n",
      "C:\\Anaconda\\Lib\\site-packages\\sklearn\\utils\\validation.py:1339: DataConversionWarning: A column-vector y was passed when a 1d array was expected. Please change the shape of y to (n_samples, ), for example using ravel().\n",
      "  y = column_or_1d(y, warn=True)\n",
      "C:\\Anaconda\\Lib\\site-packages\\sklearn\\utils\\validation.py:1339: DataConversionWarning: A column-vector y was passed when a 1d array was expected. Please change the shape of y to (n_samples, ), for example using ravel().\n",
      "  y = column_or_1d(y, warn=True)\n",
      "C:\\Anaconda\\Lib\\site-packages\\sklearn\\utils\\validation.py:1339: DataConversionWarning: A column-vector y was passed when a 1d array was expected. Please change the shape of y to (n_samples, ), for example using ravel().\n",
      "  y = column_or_1d(y, warn=True)\n"
     ]
    },
    {
     "name": "stdout",
     "output_type": "stream",
     "text": [
      "[CV 4/5] END ....C=10, gamma=scale, kernel=rbf;, score=-0.152 total time=   0.0s\n",
      "[CV 5/5] END ....C=10, gamma=scale, kernel=rbf;, score=-0.139 total time=   0.0s\n",
      "[CV 1/5] END C=10, gamma=scale, kernel=sigmoid;, score=-0.043 total time=   0.0s\n",
      "[CV 2/5] END C=10, gamma=scale, kernel=sigmoid;, score=-0.040 total time=   0.0s\n"
     ]
    },
    {
     "name": "stderr",
     "output_type": "stream",
     "text": [
      "C:\\Anaconda\\Lib\\site-packages\\sklearn\\utils\\validation.py:1339: DataConversionWarning: A column-vector y was passed when a 1d array was expected. Please change the shape of y to (n_samples, ), for example using ravel().\n",
      "  y = column_or_1d(y, warn=True)\n",
      "C:\\Anaconda\\Lib\\site-packages\\sklearn\\utils\\validation.py:1339: DataConversionWarning: A column-vector y was passed when a 1d array was expected. Please change the shape of y to (n_samples, ), for example using ravel().\n",
      "  y = column_or_1d(y, warn=True)\n",
      "C:\\Anaconda\\Lib\\site-packages\\sklearn\\utils\\validation.py:1339: DataConversionWarning: A column-vector y was passed when a 1d array was expected. Please change the shape of y to (n_samples, ), for example using ravel().\n",
      "  y = column_or_1d(y, warn=True)\n",
      "C:\\Anaconda\\Lib\\site-packages\\sklearn\\utils\\validation.py:1339: DataConversionWarning: A column-vector y was passed when a 1d array was expected. Please change the shape of y to (n_samples, ), for example using ravel().\n",
      "  y = column_or_1d(y, warn=True)\n"
     ]
    },
    {
     "name": "stdout",
     "output_type": "stream",
     "text": [
      "[CV 3/5] END C=10, gamma=scale, kernel=sigmoid;, score=-0.150 total time=   0.0s\n",
      "[CV 4/5] END C=10, gamma=scale, kernel=sigmoid;, score=-0.138 total time=   0.0s\n",
      "[CV 5/5] END C=10, gamma=scale, kernel=sigmoid;, score=-0.143 total time=   0.0s\n",
      "[CV 1/5] END .C=10, gamma=scale, kernel=linear;, score=-0.100 total time=   0.0s\n",
      "[CV 2/5] END ..C=10, gamma=scale, kernel=linear;, score=0.109 total time=   0.0s\n"
     ]
    },
    {
     "name": "stderr",
     "output_type": "stream",
     "text": [
      "C:\\Anaconda\\Lib\\site-packages\\sklearn\\utils\\validation.py:1339: DataConversionWarning: A column-vector y was passed when a 1d array was expected. Please change the shape of y to (n_samples, ), for example using ravel().\n",
      "  y = column_or_1d(y, warn=True)\n",
      "C:\\Anaconda\\Lib\\site-packages\\sklearn\\utils\\validation.py:1339: DataConversionWarning: A column-vector y was passed when a 1d array was expected. Please change the shape of y to (n_samples, ), for example using ravel().\n",
      "  y = column_or_1d(y, warn=True)\n",
      "C:\\Anaconda\\Lib\\site-packages\\sklearn\\utils\\validation.py:1339: DataConversionWarning: A column-vector y was passed when a 1d array was expected. Please change the shape of y to (n_samples, ), for example using ravel().\n",
      "  y = column_or_1d(y, warn=True)\n",
      "C:\\Anaconda\\Lib\\site-packages\\sklearn\\utils\\validation.py:1339: DataConversionWarning: A column-vector y was passed when a 1d array was expected. Please change the shape of y to (n_samples, ), for example using ravel().\n",
      "  y = column_or_1d(y, warn=True)\n",
      "C:\\Anaconda\\Lib\\site-packages\\sklearn\\utils\\validation.py:1339: DataConversionWarning: A column-vector y was passed when a 1d array was expected. Please change the shape of y to (n_samples, ), for example using ravel().\n",
      "  y = column_or_1d(y, warn=True)\n"
     ]
    },
    {
     "name": "stdout",
     "output_type": "stream",
     "text": [
      "[CV 3/5] END .C=10, gamma=scale, kernel=linear;, score=-0.136 total time=   0.0s\n",
      "[CV 4/5] END .C=10, gamma=scale, kernel=linear;, score=-0.141 total time=   0.0s\n",
      "[CV 5/5] END .C=10, gamma=scale, kernel=linear;, score=-0.075 total time=   0.0s\n",
      "[CV 1/5] END ....C=100, gamma=auto, kernel=rbf;, score=-0.040 total time=   0.0s\n"
     ]
    },
    {
     "name": "stderr",
     "output_type": "stream",
     "text": [
      "C:\\Anaconda\\Lib\\site-packages\\sklearn\\utils\\validation.py:1339: DataConversionWarning: A column-vector y was passed when a 1d array was expected. Please change the shape of y to (n_samples, ), for example using ravel().\n",
      "  y = column_or_1d(y, warn=True)\n",
      "C:\\Anaconda\\Lib\\site-packages\\sklearn\\utils\\validation.py:1339: DataConversionWarning: A column-vector y was passed when a 1d array was expected. Please change the shape of y to (n_samples, ), for example using ravel().\n",
      "  y = column_or_1d(y, warn=True)\n",
      "C:\\Anaconda\\Lib\\site-packages\\sklearn\\utils\\validation.py:1339: DataConversionWarning: A column-vector y was passed when a 1d array was expected. Please change the shape of y to (n_samples, ), for example using ravel().\n",
      "  y = column_or_1d(y, warn=True)\n",
      "C:\\Anaconda\\Lib\\site-packages\\sklearn\\utils\\validation.py:1339: DataConversionWarning: A column-vector y was passed when a 1d array was expected. Please change the shape of y to (n_samples, ), for example using ravel().\n",
      "  y = column_or_1d(y, warn=True)\n"
     ]
    },
    {
     "name": "stdout",
     "output_type": "stream",
     "text": [
      "[CV 2/5] END ....C=100, gamma=auto, kernel=rbf;, score=-0.021 total time=   0.0s\n",
      "[CV 3/5] END ....C=100, gamma=auto, kernel=rbf;, score=-0.141 total time=   0.0s\n",
      "[CV 4/5] END ....C=100, gamma=auto, kernel=rbf;, score=-0.138 total time=   0.0s\n",
      "[CV 5/5] END ....C=100, gamma=auto, kernel=rbf;, score=-0.134 total time=   0.0s\n"
     ]
    },
    {
     "name": "stderr",
     "output_type": "stream",
     "text": [
      "C:\\Anaconda\\Lib\\site-packages\\sklearn\\utils\\validation.py:1339: DataConversionWarning: A column-vector y was passed when a 1d array was expected. Please change the shape of y to (n_samples, ), for example using ravel().\n",
      "  y = column_or_1d(y, warn=True)\n",
      "C:\\Anaconda\\Lib\\site-packages\\sklearn\\utils\\validation.py:1339: DataConversionWarning: A column-vector y was passed when a 1d array was expected. Please change the shape of y to (n_samples, ), for example using ravel().\n",
      "  y = column_or_1d(y, warn=True)\n",
      "C:\\Anaconda\\Lib\\site-packages\\sklearn\\utils\\validation.py:1339: DataConversionWarning: A column-vector y was passed when a 1d array was expected. Please change the shape of y to (n_samples, ), for example using ravel().\n",
      "  y = column_or_1d(y, warn=True)\n",
      "C:\\Anaconda\\Lib\\site-packages\\sklearn\\utils\\validation.py:1339: DataConversionWarning: A column-vector y was passed when a 1d array was expected. Please change the shape of y to (n_samples, ), for example using ravel().\n",
      "  y = column_or_1d(y, warn=True)\n"
     ]
    },
    {
     "name": "stdout",
     "output_type": "stream",
     "text": [
      "[CV 1/5] END C=100, gamma=auto, kernel=sigmoid;, score=-0.042 total time=   0.0s\n",
      "[CV 2/5] END C=100, gamma=auto, kernel=sigmoid;, score=-0.038 total time=   0.0s\n",
      "[CV 3/5] END C=100, gamma=auto, kernel=sigmoid;, score=-0.149 total time=   0.0s\n",
      "[CV 4/5] END C=100, gamma=auto, kernel=sigmoid;, score=-0.139 total time=   0.0s\n",
      "[CV 5/5] END C=100, gamma=auto, kernel=sigmoid;, score=-0.142 total time=   0.0s\n",
      "[CV 1/5] END ..C=100, gamma=auto, kernel=linear;, score=0.478 total time=   0.0s\n"
     ]
    },
    {
     "name": "stderr",
     "output_type": "stream",
     "text": [
      "C:\\Anaconda\\Lib\\site-packages\\sklearn\\utils\\validation.py:1339: DataConversionWarning: A column-vector y was passed when a 1d array was expected. Please change the shape of y to (n_samples, ), for example using ravel().\n",
      "  y = column_or_1d(y, warn=True)\n",
      "C:\\Anaconda\\Lib\\site-packages\\sklearn\\utils\\validation.py:1339: DataConversionWarning: A column-vector y was passed when a 1d array was expected. Please change the shape of y to (n_samples, ), for example using ravel().\n",
      "  y = column_or_1d(y, warn=True)\n",
      "C:\\Anaconda\\Lib\\site-packages\\sklearn\\utils\\validation.py:1339: DataConversionWarning: A column-vector y was passed when a 1d array was expected. Please change the shape of y to (n_samples, ), for example using ravel().\n",
      "  y = column_or_1d(y, warn=True)\n",
      "C:\\Anaconda\\Lib\\site-packages\\sklearn\\utils\\validation.py:1339: DataConversionWarning: A column-vector y was passed when a 1d array was expected. Please change the shape of y to (n_samples, ), for example using ravel().\n",
      "  y = column_or_1d(y, warn=True)\n",
      "C:\\Anaconda\\Lib\\site-packages\\sklearn\\utils\\validation.py:1339: DataConversionWarning: A column-vector y was passed when a 1d array was expected. Please change the shape of y to (n_samples, ), for example using ravel().\n",
      "  y = column_or_1d(y, warn=True)\n",
      "C:\\Anaconda\\Lib\\site-packages\\sklearn\\utils\\validation.py:1339: DataConversionWarning: A column-vector y was passed when a 1d array was expected. Please change the shape of y to (n_samples, ), for example using ravel().\n",
      "  y = column_or_1d(y, warn=True)\n"
     ]
    },
    {
     "name": "stdout",
     "output_type": "stream",
     "text": [
      "[CV 2/5] END ..C=100, gamma=auto, kernel=linear;, score=0.582 total time=   0.0s\n",
      "[CV 3/5] END ..C=100, gamma=auto, kernel=linear;, score=0.432 total time=   0.0s\n",
      "[CV 4/5] END ..C=100, gamma=auto, kernel=linear;, score=0.459 total time=   0.0s\n"
     ]
    },
    {
     "name": "stderr",
     "output_type": "stream",
     "text": [
      "C:\\Anaconda\\Lib\\site-packages\\sklearn\\utils\\validation.py:1339: DataConversionWarning: A column-vector y was passed when a 1d array was expected. Please change the shape of y to (n_samples, ), for example using ravel().\n",
      "  y = column_or_1d(y, warn=True)\n",
      "C:\\Anaconda\\Lib\\site-packages\\sklearn\\utils\\validation.py:1339: DataConversionWarning: A column-vector y was passed when a 1d array was expected. Please change the shape of y to (n_samples, ), for example using ravel().\n",
      "  y = column_or_1d(y, warn=True)\n",
      "C:\\Anaconda\\Lib\\site-packages\\sklearn\\utils\\validation.py:1339: DataConversionWarning: A column-vector y was passed when a 1d array was expected. Please change the shape of y to (n_samples, ), for example using ravel().\n",
      "  y = column_or_1d(y, warn=True)\n"
     ]
    },
    {
     "name": "stdout",
     "output_type": "stream",
     "text": [
      "[CV 5/5] END ..C=100, gamma=auto, kernel=linear;, score=0.440 total time=   0.0s\n",
      "[CV 1/5] END ...C=100, gamma=scale, kernel=rbf;, score=-0.159 total time=   0.0s\n",
      "[CV 2/5] END ....C=100, gamma=scale, kernel=rbf;, score=0.014 total time=   0.0s\n",
      "[CV 3/5] END ...C=100, gamma=scale, kernel=rbf;, score=-0.243 total time=   0.0s\n",
      "[CV 4/5] END ...C=100, gamma=scale, kernel=rbf;, score=-0.255 total time=   0.0s\n"
     ]
    },
    {
     "name": "stderr",
     "output_type": "stream",
     "text": [
      "C:\\Anaconda\\Lib\\site-packages\\sklearn\\utils\\validation.py:1339: DataConversionWarning: A column-vector y was passed when a 1d array was expected. Please change the shape of y to (n_samples, ), for example using ravel().\n",
      "  y = column_or_1d(y, warn=True)\n",
      "C:\\Anaconda\\Lib\\site-packages\\sklearn\\utils\\validation.py:1339: DataConversionWarning: A column-vector y was passed when a 1d array was expected. Please change the shape of y to (n_samples, ), for example using ravel().\n",
      "  y = column_or_1d(y, warn=True)\n",
      "C:\\Anaconda\\Lib\\site-packages\\sklearn\\utils\\validation.py:1339: DataConversionWarning: A column-vector y was passed when a 1d array was expected. Please change the shape of y to (n_samples, ), for example using ravel().\n",
      "  y = column_or_1d(y, warn=True)\n",
      "C:\\Anaconda\\Lib\\site-packages\\sklearn\\utils\\validation.py:1339: DataConversionWarning: A column-vector y was passed when a 1d array was expected. Please change the shape of y to (n_samples, ), for example using ravel().\n",
      "  y = column_or_1d(y, warn=True)\n",
      "C:\\Anaconda\\Lib\\site-packages\\sklearn\\utils\\validation.py:1339: DataConversionWarning: A column-vector y was passed when a 1d array was expected. Please change the shape of y to (n_samples, ), for example using ravel().\n",
      "  y = column_or_1d(y, warn=True)\n",
      "C:\\Anaconda\\Lib\\site-packages\\sklearn\\utils\\validation.py:1339: DataConversionWarning: A column-vector y was passed when a 1d array was expected. Please change the shape of y to (n_samples, ), for example using ravel().\n",
      "  y = column_or_1d(y, warn=True)\n",
      "C:\\Anaconda\\Lib\\site-packages\\sklearn\\utils\\validation.py:1339: DataConversionWarning: A column-vector y was passed when a 1d array was expected. Please change the shape of y to (n_samples, ), for example using ravel().\n",
      "  y = column_or_1d(y, warn=True)\n",
      "C:\\Anaconda\\Lib\\site-packages\\sklearn\\utils\\validation.py:1339: DataConversionWarning: A column-vector y was passed when a 1d array was expected. Please change the shape of y to (n_samples, ), for example using ravel().\n",
      "  y = column_or_1d(y, warn=True)\n"
     ]
    },
    {
     "name": "stdout",
     "output_type": "stream",
     "text": [
      "[CV 5/5] END ...C=100, gamma=scale, kernel=rbf;, score=-0.167 total time=   0.0s\n",
      "[CV 1/5] END C=100, gamma=scale, kernel=sigmoid;, score=-0.060 total time=   0.0s\n",
      "[CV 2/5] END C=100, gamma=scale, kernel=sigmoid;, score=-0.063 total time=   0.0s\n",
      "[CV 3/5] END C=100, gamma=scale, kernel=sigmoid;, score=-0.155 total time=   0.0s\n"
     ]
    },
    {
     "name": "stderr",
     "output_type": "stream",
     "text": [
      "C:\\Anaconda\\Lib\\site-packages\\sklearn\\utils\\validation.py:1339: DataConversionWarning: A column-vector y was passed when a 1d array was expected. Please change the shape of y to (n_samples, ), for example using ravel().\n",
      "  y = column_or_1d(y, warn=True)\n",
      "C:\\Anaconda\\Lib\\site-packages\\sklearn\\utils\\validation.py:1339: DataConversionWarning: A column-vector y was passed when a 1d array was expected. Please change the shape of y to (n_samples, ), for example using ravel().\n",
      "  y = column_or_1d(y, warn=True)\n",
      "C:\\Anaconda\\Lib\\site-packages\\sklearn\\utils\\validation.py:1339: DataConversionWarning: A column-vector y was passed when a 1d array was expected. Please change the shape of y to (n_samples, ), for example using ravel().\n",
      "  y = column_or_1d(y, warn=True)\n",
      "C:\\Anaconda\\Lib\\site-packages\\sklearn\\utils\\validation.py:1339: DataConversionWarning: A column-vector y was passed when a 1d array was expected. Please change the shape of y to (n_samples, ), for example using ravel().\n",
      "  y = column_or_1d(y, warn=True)\n"
     ]
    },
    {
     "name": "stdout",
     "output_type": "stream",
     "text": [
      "[CV 4/5] END C=100, gamma=scale, kernel=sigmoid;, score=-0.153 total time=   0.0s\n",
      "[CV 5/5] END C=100, gamma=scale, kernel=sigmoid;, score=-0.160 total time=   0.0s\n",
      "[CV 1/5] END .C=100, gamma=scale, kernel=linear;, score=0.478 total time=   0.0s\n",
      "[CV 2/5] END .C=100, gamma=scale, kernel=linear;, score=0.582 total time=   0.0s\n",
      "[CV 3/5] END .C=100, gamma=scale, kernel=linear;, score=0.432 total time=   0.0s\n",
      "[CV 4/5] END .C=100, gamma=scale, kernel=linear;, score=0.459 total time=   0.0s\n"
     ]
    },
    {
     "name": "stderr",
     "output_type": "stream",
     "text": [
      "C:\\Anaconda\\Lib\\site-packages\\sklearn\\utils\\validation.py:1339: DataConversionWarning: A column-vector y was passed when a 1d array was expected. Please change the shape of y to (n_samples, ), for example using ravel().\n",
      "  y = column_or_1d(y, warn=True)\n",
      "C:\\Anaconda\\Lib\\site-packages\\sklearn\\utils\\validation.py:1339: DataConversionWarning: A column-vector y was passed when a 1d array was expected. Please change the shape of y to (n_samples, ), for example using ravel().\n",
      "  y = column_or_1d(y, warn=True)\n",
      "C:\\Anaconda\\Lib\\site-packages\\sklearn\\utils\\validation.py:1339: DataConversionWarning: A column-vector y was passed when a 1d array was expected. Please change the shape of y to (n_samples, ), for example using ravel().\n",
      "  y = column_or_1d(y, warn=True)\n"
     ]
    },
    {
     "name": "stdout",
     "output_type": "stream",
     "text": [
      "[CV 5/5] END .C=100, gamma=scale, kernel=linear;, score=0.440 total time=   0.0s\n",
      "[CV 1/5] END ....C=300, gamma=auto, kernel=rbf;, score=-0.042 total time=   0.0s\n",
      "[CV 2/5] END .....C=300, gamma=auto, kernel=rbf;, score=0.001 total time=   0.0s\n",
      "[CV 3/5] END ....C=300, gamma=auto, kernel=rbf;, score=-0.141 total time=   0.0s\n"
     ]
    },
    {
     "name": "stderr",
     "output_type": "stream",
     "text": [
      "C:\\Anaconda\\Lib\\site-packages\\sklearn\\utils\\validation.py:1339: DataConversionWarning: A column-vector y was passed when a 1d array was expected. Please change the shape of y to (n_samples, ), for example using ravel().\n",
      "  y = column_or_1d(y, warn=True)\n",
      "C:\\Anaconda\\Lib\\site-packages\\sklearn\\utils\\validation.py:1339: DataConversionWarning: A column-vector y was passed when a 1d array was expected. Please change the shape of y to (n_samples, ), for example using ravel().\n",
      "  y = column_or_1d(y, warn=True)\n",
      "C:\\Anaconda\\Lib\\site-packages\\sklearn\\utils\\validation.py:1339: DataConversionWarning: A column-vector y was passed when a 1d array was expected. Please change the shape of y to (n_samples, ), for example using ravel().\n",
      "  y = column_or_1d(y, warn=True)\n",
      "C:\\Anaconda\\Lib\\site-packages\\sklearn\\utils\\validation.py:1339: DataConversionWarning: A column-vector y was passed when a 1d array was expected. Please change the shape of y to (n_samples, ), for example using ravel().\n",
      "  y = column_or_1d(y, warn=True)\n"
     ]
    },
    {
     "name": "stdout",
     "output_type": "stream",
     "text": [
      "[CV 4/5] END ....C=300, gamma=auto, kernel=rbf;, score=-0.146 total time=   0.0s\n",
      "[CV 5/5] END ....C=300, gamma=auto, kernel=rbf;, score=-0.133 total time=   0.0s\n",
      "[CV 1/5] END C=300, gamma=auto, kernel=sigmoid;, score=-0.042 total time=   0.0s\n",
      "[CV 2/5] END C=300, gamma=auto, kernel=sigmoid;, score=-0.038 total time=   0.0s\n",
      "[CV 3/5] END C=300, gamma=auto, kernel=sigmoid;, score=-0.149 total time=   0.0s\n",
      "[CV 4/5] END C=300, gamma=auto, kernel=sigmoid;, score=-0.139 total time=   0.0s\n"
     ]
    },
    {
     "name": "stderr",
     "output_type": "stream",
     "text": [
      "C:\\Anaconda\\Lib\\site-packages\\sklearn\\utils\\validation.py:1339: DataConversionWarning: A column-vector y was passed when a 1d array was expected. Please change the shape of y to (n_samples, ), for example using ravel().\n",
      "  y = column_or_1d(y, warn=True)\n",
      "C:\\Anaconda\\Lib\\site-packages\\sklearn\\utils\\validation.py:1339: DataConversionWarning: A column-vector y was passed when a 1d array was expected. Please change the shape of y to (n_samples, ), for example using ravel().\n",
      "  y = column_or_1d(y, warn=True)\n",
      "C:\\Anaconda\\Lib\\site-packages\\sklearn\\utils\\validation.py:1339: DataConversionWarning: A column-vector y was passed when a 1d array was expected. Please change the shape of y to (n_samples, ), for example using ravel().\n",
      "  y = column_or_1d(y, warn=True)\n",
      "C:\\Anaconda\\Lib\\site-packages\\sklearn\\utils\\validation.py:1339: DataConversionWarning: A column-vector y was passed when a 1d array was expected. Please change the shape of y to (n_samples, ), for example using ravel().\n",
      "  y = column_or_1d(y, warn=True)\n",
      "C:\\Anaconda\\Lib\\site-packages\\sklearn\\utils\\validation.py:1339: DataConversionWarning: A column-vector y was passed when a 1d array was expected. Please change the shape of y to (n_samples, ), for example using ravel().\n",
      "  y = column_or_1d(y, warn=True)\n",
      "C:\\Anaconda\\Lib\\site-packages\\sklearn\\utils\\validation.py:1339: DataConversionWarning: A column-vector y was passed when a 1d array was expected. Please change the shape of y to (n_samples, ), for example using ravel().\n",
      "  y = column_or_1d(y, warn=True)\n"
     ]
    },
    {
     "name": "stdout",
     "output_type": "stream",
     "text": [
      "[CV 5/5] END C=300, gamma=auto, kernel=sigmoid;, score=-0.142 total time=   0.0s\n",
      "[CV 1/5] END ..C=300, gamma=auto, kernel=linear;, score=0.561 total time=   0.0s\n"
     ]
    },
    {
     "name": "stderr",
     "output_type": "stream",
     "text": [
      "C:\\Anaconda\\Lib\\site-packages\\sklearn\\utils\\validation.py:1339: DataConversionWarning: A column-vector y was passed when a 1d array was expected. Please change the shape of y to (n_samples, ), for example using ravel().\n",
      "  y = column_or_1d(y, warn=True)\n",
      "C:\\Anaconda\\Lib\\site-packages\\sklearn\\utils\\validation.py:1339: DataConversionWarning: A column-vector y was passed when a 1d array was expected. Please change the shape of y to (n_samples, ), for example using ravel().\n",
      "  y = column_or_1d(y, warn=True)\n"
     ]
    },
    {
     "name": "stdout",
     "output_type": "stream",
     "text": [
      "[CV 2/5] END ..C=300, gamma=auto, kernel=linear;, score=0.640 total time=   0.1s\n",
      "[CV 3/5] END ..C=300, gamma=auto, kernel=linear;, score=0.528 total time=   0.0s\n"
     ]
    },
    {
     "name": "stderr",
     "output_type": "stream",
     "text": [
      "C:\\Anaconda\\Lib\\site-packages\\sklearn\\utils\\validation.py:1339: DataConversionWarning: A column-vector y was passed when a 1d array was expected. Please change the shape of y to (n_samples, ), for example using ravel().\n",
      "  y = column_or_1d(y, warn=True)\n",
      "C:\\Anaconda\\Lib\\site-packages\\sklearn\\utils\\validation.py:1339: DataConversionWarning: A column-vector y was passed when a 1d array was expected. Please change the shape of y to (n_samples, ), for example using ravel().\n",
      "  y = column_or_1d(y, warn=True)\n"
     ]
    },
    {
     "name": "stdout",
     "output_type": "stream",
     "text": [
      "[CV 4/5] END ..C=300, gamma=auto, kernel=linear;, score=0.553 total time=   0.0s\n",
      "[CV 5/5] END ..C=300, gamma=auto, kernel=linear;, score=0.523 total time=   0.0s\n",
      "[CV 1/5] END ...C=300, gamma=scale, kernel=rbf;, score=-0.189 total time=   0.0s\n"
     ]
    },
    {
     "name": "stderr",
     "output_type": "stream",
     "text": [
      "C:\\Anaconda\\Lib\\site-packages\\sklearn\\utils\\validation.py:1339: DataConversionWarning: A column-vector y was passed when a 1d array was expected. Please change the shape of y to (n_samples, ), for example using ravel().\n",
      "  y = column_or_1d(y, warn=True)\n",
      "C:\\Anaconda\\Lib\\site-packages\\sklearn\\utils\\validation.py:1339: DataConversionWarning: A column-vector y was passed when a 1d array was expected. Please change the shape of y to (n_samples, ), for example using ravel().\n",
      "  y = column_or_1d(y, warn=True)\n",
      "C:\\Anaconda\\Lib\\site-packages\\sklearn\\utils\\validation.py:1339: DataConversionWarning: A column-vector y was passed when a 1d array was expected. Please change the shape of y to (n_samples, ), for example using ravel().\n",
      "  y = column_or_1d(y, warn=True)\n"
     ]
    },
    {
     "name": "stdout",
     "output_type": "stream",
     "text": [
      "[CV 2/5] END ....C=300, gamma=scale, kernel=rbf;, score=0.013 total time=   0.0s\n",
      "[CV 3/5] END ...C=300, gamma=scale, kernel=rbf;, score=-0.254 total time=   0.0s\n",
      "[CV 4/5] END ...C=300, gamma=scale, kernel=rbf;, score=-0.270 total time=   0.0s\n",
      "[CV 5/5] END ...C=300, gamma=scale, kernel=rbf;, score=-0.177 total time=   0.0s\n"
     ]
    },
    {
     "name": "stderr",
     "output_type": "stream",
     "text": [
      "C:\\Anaconda\\Lib\\site-packages\\sklearn\\utils\\validation.py:1339: DataConversionWarning: A column-vector y was passed when a 1d array was expected. Please change the shape of y to (n_samples, ), for example using ravel().\n",
      "  y = column_or_1d(y, warn=True)\n",
      "C:\\Anaconda\\Lib\\site-packages\\sklearn\\utils\\validation.py:1339: DataConversionWarning: A column-vector y was passed when a 1d array was expected. Please change the shape of y to (n_samples, ), for example using ravel().\n",
      "  y = column_or_1d(y, warn=True)\n",
      "C:\\Anaconda\\Lib\\site-packages\\sklearn\\utils\\validation.py:1339: DataConversionWarning: A column-vector y was passed when a 1d array was expected. Please change the shape of y to (n_samples, ), for example using ravel().\n",
      "  y = column_or_1d(y, warn=True)\n",
      "C:\\Anaconda\\Lib\\site-packages\\sklearn\\utils\\validation.py:1339: DataConversionWarning: A column-vector y was passed when a 1d array was expected. Please change the shape of y to (n_samples, ), for example using ravel().\n",
      "  y = column_or_1d(y, warn=True)\n"
     ]
    },
    {
     "name": "stdout",
     "output_type": "stream",
     "text": [
      "[CV 1/5] END C=300, gamma=scale, kernel=sigmoid;, score=-0.134 total time=   0.0s\n",
      "[CV 2/5] END C=300, gamma=scale, kernel=sigmoid;, score=-0.161 total time=   0.0s\n",
      "[CV 3/5] END C=300, gamma=scale, kernel=sigmoid;, score=-0.219 total time=   0.0s\n",
      "[CV 4/5] END C=300, gamma=scale, kernel=sigmoid;, score=-0.217 total time=   0.0s\n"
     ]
    },
    {
     "name": "stderr",
     "output_type": "stream",
     "text": [
      "C:\\Anaconda\\Lib\\site-packages\\sklearn\\utils\\validation.py:1339: DataConversionWarning: A column-vector y was passed when a 1d array was expected. Please change the shape of y to (n_samples, ), for example using ravel().\n",
      "  y = column_or_1d(y, warn=True)\n",
      "C:\\Anaconda\\Lib\\site-packages\\sklearn\\utils\\validation.py:1339: DataConversionWarning: A column-vector y was passed when a 1d array was expected. Please change the shape of y to (n_samples, ), for example using ravel().\n",
      "  y = column_or_1d(y, warn=True)\n",
      "C:\\Anaconda\\Lib\\site-packages\\sklearn\\utils\\validation.py:1339: DataConversionWarning: A column-vector y was passed when a 1d array was expected. Please change the shape of y to (n_samples, ), for example using ravel().\n",
      "  y = column_or_1d(y, warn=True)\n",
      "C:\\Anaconda\\Lib\\site-packages\\sklearn\\utils\\validation.py:1339: DataConversionWarning: A column-vector y was passed when a 1d array was expected. Please change the shape of y to (n_samples, ), for example using ravel().\n",
      "  y = column_or_1d(y, warn=True)\n"
     ]
    },
    {
     "name": "stdout",
     "output_type": "stream",
     "text": [
      "[CV 5/5] END C=300, gamma=scale, kernel=sigmoid;, score=-0.225 total time=   0.0s\n",
      "[CV 1/5] END .C=300, gamma=scale, kernel=linear;, score=0.561 total time=   0.1s\n"
     ]
    },
    {
     "name": "stderr",
     "output_type": "stream",
     "text": [
      "C:\\Anaconda\\Lib\\site-packages\\sklearn\\utils\\validation.py:1339: DataConversionWarning: A column-vector y was passed when a 1d array was expected. Please change the shape of y to (n_samples, ), for example using ravel().\n",
      "  y = column_or_1d(y, warn=True)\n",
      "C:\\Anaconda\\Lib\\site-packages\\sklearn\\utils\\validation.py:1339: DataConversionWarning: A column-vector y was passed when a 1d array was expected. Please change the shape of y to (n_samples, ), for example using ravel().\n",
      "  y = column_or_1d(y, warn=True)\n"
     ]
    },
    {
     "name": "stdout",
     "output_type": "stream",
     "text": [
      "[CV 2/5] END .C=300, gamma=scale, kernel=linear;, score=0.640 total time=   0.1s\n",
      "[CV 3/5] END .C=300, gamma=scale, kernel=linear;, score=0.528 total time=   0.0s\n"
     ]
    },
    {
     "name": "stderr",
     "output_type": "stream",
     "text": [
      "C:\\Anaconda\\Lib\\site-packages\\sklearn\\utils\\validation.py:1339: DataConversionWarning: A column-vector y was passed when a 1d array was expected. Please change the shape of y to (n_samples, ), for example using ravel().\n",
      "  y = column_or_1d(y, warn=True)\n",
      "C:\\Anaconda\\Lib\\site-packages\\sklearn\\utils\\validation.py:1339: DataConversionWarning: A column-vector y was passed when a 1d array was expected. Please change the shape of y to (n_samples, ), for example using ravel().\n",
      "  y = column_or_1d(y, warn=True)\n"
     ]
    },
    {
     "name": "stdout",
     "output_type": "stream",
     "text": [
      "[CV 4/5] END .C=300, gamma=scale, kernel=linear;, score=0.553 total time=   0.0s\n",
      "[CV 5/5] END .C=300, gamma=scale, kernel=linear;, score=0.523 total time=   0.0s\n"
     ]
    },
    {
     "name": "stderr",
     "output_type": "stream",
     "text": [
      "C:\\Anaconda\\Lib\\site-packages\\sklearn\\utils\\validation.py:1339: DataConversionWarning: A column-vector y was passed when a 1d array was expected. Please change the shape of y to (n_samples, ), for example using ravel().\n",
      "  y = column_or_1d(y, warn=True)\n",
      "C:\\Anaconda\\Lib\\site-packages\\sklearn\\utils\\validation.py:1339: DataConversionWarning: A column-vector y was passed when a 1d array was expected. Please change the shape of y to (n_samples, ), for example using ravel().\n",
      "  y = column_or_1d(y, warn=True)\n"
     ]
    },
    {
     "name": "stdout",
     "output_type": "stream",
     "text": [
      "[CV 1/5] END ...C=1000, gamma=auto, kernel=rbf;, score=-0.064 total time=   0.0s\n",
      "[CV 2/5] END ....C=1000, gamma=auto, kernel=rbf;, score=0.041 total time=   0.0s\n",
      "[CV 3/5] END ...C=1000, gamma=auto, kernel=rbf;, score=-0.174 total time=   0.0s\n"
     ]
    },
    {
     "name": "stderr",
     "output_type": "stream",
     "text": [
      "C:\\Anaconda\\Lib\\site-packages\\sklearn\\utils\\validation.py:1339: DataConversionWarning: A column-vector y was passed when a 1d array was expected. Please change the shape of y to (n_samples, ), for example using ravel().\n",
      "  y = column_or_1d(y, warn=True)\n",
      "C:\\Anaconda\\Lib\\site-packages\\sklearn\\utils\\validation.py:1339: DataConversionWarning: A column-vector y was passed when a 1d array was expected. Please change the shape of y to (n_samples, ), for example using ravel().\n",
      "  y = column_or_1d(y, warn=True)\n",
      "C:\\Anaconda\\Lib\\site-packages\\sklearn\\utils\\validation.py:1339: DataConversionWarning: A column-vector y was passed when a 1d array was expected. Please change the shape of y to (n_samples, ), for example using ravel().\n",
      "  y = column_or_1d(y, warn=True)\n"
     ]
    },
    {
     "name": "stdout",
     "output_type": "stream",
     "text": [
      "[CV 4/5] END ...C=1000, gamma=auto, kernel=rbf;, score=-0.162 total time=   0.0s\n",
      "[CV 5/5] END ...C=1000, gamma=auto, kernel=rbf;, score=-0.131 total time=   0.0s\n",
      "[CV 1/5] END C=1000, gamma=auto, kernel=sigmoid;, score=-0.042 total time=   0.0s\n",
      "[CV 2/5] END C=1000, gamma=auto, kernel=sigmoid;, score=-0.038 total time=   0.0s\n",
      "[CV 3/5] END C=1000, gamma=auto, kernel=sigmoid;, score=-0.149 total time=   0.0s\n"
     ]
    },
    {
     "name": "stderr",
     "output_type": "stream",
     "text": [
      "C:\\Anaconda\\Lib\\site-packages\\sklearn\\utils\\validation.py:1339: DataConversionWarning: A column-vector y was passed when a 1d array was expected. Please change the shape of y to (n_samples, ), for example using ravel().\n",
      "  y = column_or_1d(y, warn=True)\n",
      "C:\\Anaconda\\Lib\\site-packages\\sklearn\\utils\\validation.py:1339: DataConversionWarning: A column-vector y was passed when a 1d array was expected. Please change the shape of y to (n_samples, ), for example using ravel().\n",
      "  y = column_or_1d(y, warn=True)\n",
      "C:\\Anaconda\\Lib\\site-packages\\sklearn\\utils\\validation.py:1339: DataConversionWarning: A column-vector y was passed when a 1d array was expected. Please change the shape of y to (n_samples, ), for example using ravel().\n",
      "  y = column_or_1d(y, warn=True)\n",
      "C:\\Anaconda\\Lib\\site-packages\\sklearn\\utils\\validation.py:1339: DataConversionWarning: A column-vector y was passed when a 1d array was expected. Please change the shape of y to (n_samples, ), for example using ravel().\n",
      "  y = column_or_1d(y, warn=True)\n",
      "C:\\Anaconda\\Lib\\site-packages\\sklearn\\utils\\validation.py:1339: DataConversionWarning: A column-vector y was passed when a 1d array was expected. Please change the shape of y to (n_samples, ), for example using ravel().\n",
      "  y = column_or_1d(y, warn=True)\n"
     ]
    },
    {
     "name": "stdout",
     "output_type": "stream",
     "text": [
      "[CV 4/5] END C=1000, gamma=auto, kernel=sigmoid;, score=-0.139 total time=   0.0s\n",
      "[CV 5/5] END C=1000, gamma=auto, kernel=sigmoid;, score=-0.142 total time=   0.0s\n"
     ]
    },
    {
     "name": "stderr",
     "output_type": "stream",
     "text": [
      "C:\\Anaconda\\Lib\\site-packages\\sklearn\\utils\\validation.py:1339: DataConversionWarning: A column-vector y was passed when a 1d array was expected. Please change the shape of y to (n_samples, ), for example using ravel().\n",
      "  y = column_or_1d(y, warn=True)\n",
      "C:\\Anaconda\\Lib\\site-packages\\sklearn\\utils\\validation.py:1339: DataConversionWarning: A column-vector y was passed when a 1d array was expected. Please change the shape of y to (n_samples, ), for example using ravel().\n",
      "  y = column_or_1d(y, warn=True)\n"
     ]
    },
    {
     "name": "stdout",
     "output_type": "stream",
     "text": [
      "[CV 1/5] END .C=1000, gamma=auto, kernel=linear;, score=0.592 total time=   0.2s\n"
     ]
    },
    {
     "name": "stderr",
     "output_type": "stream",
     "text": [
      "C:\\Anaconda\\Lib\\site-packages\\sklearn\\utils\\validation.py:1339: DataConversionWarning: A column-vector y was passed when a 1d array was expected. Please change the shape of y to (n_samples, ), for example using ravel().\n",
      "  y = column_or_1d(y, warn=True)\n"
     ]
    },
    {
     "name": "stdout",
     "output_type": "stream",
     "text": [
      "[CV 2/5] END .C=1000, gamma=auto, kernel=linear;, score=0.664 total time=   0.2s\n"
     ]
    },
    {
     "name": "stderr",
     "output_type": "stream",
     "text": [
      "C:\\Anaconda\\Lib\\site-packages\\sklearn\\utils\\validation.py:1339: DataConversionWarning: A column-vector y was passed when a 1d array was expected. Please change the shape of y to (n_samples, ), for example using ravel().\n",
      "  y = column_or_1d(y, warn=True)\n"
     ]
    },
    {
     "name": "stdout",
     "output_type": "stream",
     "text": [
      "[CV 3/5] END .C=1000, gamma=auto, kernel=linear;, score=0.559 total time=   0.3s\n"
     ]
    },
    {
     "name": "stderr",
     "output_type": "stream",
     "text": [
      "C:\\Anaconda\\Lib\\site-packages\\sklearn\\utils\\validation.py:1339: DataConversionWarning: A column-vector y was passed when a 1d array was expected. Please change the shape of y to (n_samples, ), for example using ravel().\n",
      "  y = column_or_1d(y, warn=True)\n"
     ]
    },
    {
     "name": "stdout",
     "output_type": "stream",
     "text": [
      "[CV 4/5] END .C=1000, gamma=auto, kernel=linear;, score=0.583 total time=   0.2s\n"
     ]
    },
    {
     "name": "stderr",
     "output_type": "stream",
     "text": [
      "C:\\Anaconda\\Lib\\site-packages\\sklearn\\utils\\validation.py:1339: DataConversionWarning: A column-vector y was passed when a 1d array was expected. Please change the shape of y to (n_samples, ), for example using ravel().\n",
      "  y = column_or_1d(y, warn=True)\n"
     ]
    },
    {
     "name": "stdout",
     "output_type": "stream",
     "text": [
      "[CV 5/5] END .C=1000, gamma=auto, kernel=linear;, score=0.559 total time=   0.2s\n",
      "[CV 1/5] END ..C=1000, gamma=scale, kernel=rbf;, score=-0.191 total time=   0.0s\n",
      "[CV 2/5] END ...C=1000, gamma=scale, kernel=rbf;, score=0.022 total time=   0.0s\n",
      "[CV 3/5] END ..C=1000, gamma=scale, kernel=rbf;, score=-0.247 total time=   0.0s\n"
     ]
    },
    {
     "name": "stderr",
     "output_type": "stream",
     "text": [
      "C:\\Anaconda\\Lib\\site-packages\\sklearn\\utils\\validation.py:1339: DataConversionWarning: A column-vector y was passed when a 1d array was expected. Please change the shape of y to (n_samples, ), for example using ravel().\n",
      "  y = column_or_1d(y, warn=True)\n",
      "C:\\Anaconda\\Lib\\site-packages\\sklearn\\utils\\validation.py:1339: DataConversionWarning: A column-vector y was passed when a 1d array was expected. Please change the shape of y to (n_samples, ), for example using ravel().\n",
      "  y = column_or_1d(y, warn=True)\n",
      "C:\\Anaconda\\Lib\\site-packages\\sklearn\\utils\\validation.py:1339: DataConversionWarning: A column-vector y was passed when a 1d array was expected. Please change the shape of y to (n_samples, ), for example using ravel().\n",
      "  y = column_or_1d(y, warn=True)\n",
      "C:\\Anaconda\\Lib\\site-packages\\sklearn\\utils\\validation.py:1339: DataConversionWarning: A column-vector y was passed when a 1d array was expected. Please change the shape of y to (n_samples, ), for example using ravel().\n",
      "  y = column_or_1d(y, warn=True)\n"
     ]
    },
    {
     "name": "stdout",
     "output_type": "stream",
     "text": [
      "[CV 4/5] END ..C=1000, gamma=scale, kernel=rbf;, score=-0.265 total time=   0.0s\n",
      "[CV 5/5] END ..C=1000, gamma=scale, kernel=rbf;, score=-0.175 total time=   0.0s\n",
      "[CV 1/5] END C=1000, gamma=scale, kernel=sigmoid;, score=-1.141 total time=   0.0s\n",
      "[CV 2/5] END C=1000, gamma=scale, kernel=sigmoid;, score=-1.270 total time=   0.0s\n"
     ]
    },
    {
     "name": "stderr",
     "output_type": "stream",
     "text": [
      "C:\\Anaconda\\Lib\\site-packages\\sklearn\\utils\\validation.py:1339: DataConversionWarning: A column-vector y was passed when a 1d array was expected. Please change the shape of y to (n_samples, ), for example using ravel().\n",
      "  y = column_or_1d(y, warn=True)\n",
      "C:\\Anaconda\\Lib\\site-packages\\sklearn\\utils\\validation.py:1339: DataConversionWarning: A column-vector y was passed when a 1d array was expected. Please change the shape of y to (n_samples, ), for example using ravel().\n",
      "  y = column_or_1d(y, warn=True)\n",
      "C:\\Anaconda\\Lib\\site-packages\\sklearn\\utils\\validation.py:1339: DataConversionWarning: A column-vector y was passed when a 1d array was expected. Please change the shape of y to (n_samples, ), for example using ravel().\n",
      "  y = column_or_1d(y, warn=True)\n",
      "C:\\Anaconda\\Lib\\site-packages\\sklearn\\utils\\validation.py:1339: DataConversionWarning: A column-vector y was passed when a 1d array was expected. Please change the shape of y to (n_samples, ), for example using ravel().\n",
      "  y = column_or_1d(y, warn=True)\n"
     ]
    },
    {
     "name": "stdout",
     "output_type": "stream",
     "text": [
      "[CV 3/5] END C=1000, gamma=scale, kernel=sigmoid;, score=-1.075 total time=   0.0s\n",
      "[CV 4/5] END C=1000, gamma=scale, kernel=sigmoid;, score=-1.222 total time=   0.0s\n",
      "[CV 5/5] END C=1000, gamma=scale, kernel=sigmoid;, score=-1.155 total time=   0.0s\n"
     ]
    },
    {
     "name": "stderr",
     "output_type": "stream",
     "text": [
      "C:\\Anaconda\\Lib\\site-packages\\sklearn\\utils\\validation.py:1339: DataConversionWarning: A column-vector y was passed when a 1d array was expected. Please change the shape of y to (n_samples, ), for example using ravel().\n",
      "  y = column_or_1d(y, warn=True)\n",
      "C:\\Anaconda\\Lib\\site-packages\\sklearn\\utils\\validation.py:1339: DataConversionWarning: A column-vector y was passed when a 1d array was expected. Please change the shape of y to (n_samples, ), for example using ravel().\n",
      "  y = column_or_1d(y, warn=True)\n",
      "C:\\Anaconda\\Lib\\site-packages\\sklearn\\utils\\validation.py:1339: DataConversionWarning: A column-vector y was passed when a 1d array was expected. Please change the shape of y to (n_samples, ), for example using ravel().\n",
      "  y = column_or_1d(y, warn=True)\n"
     ]
    },
    {
     "name": "stdout",
     "output_type": "stream",
     "text": [
      "[CV 1/5] END C=1000, gamma=scale, kernel=linear;, score=0.592 total time=   0.2s\n"
     ]
    },
    {
     "name": "stderr",
     "output_type": "stream",
     "text": [
      "C:\\Anaconda\\Lib\\site-packages\\sklearn\\utils\\validation.py:1339: DataConversionWarning: A column-vector y was passed when a 1d array was expected. Please change the shape of y to (n_samples, ), for example using ravel().\n",
      "  y = column_or_1d(y, warn=True)\n"
     ]
    },
    {
     "name": "stdout",
     "output_type": "stream",
     "text": [
      "[CV 2/5] END C=1000, gamma=scale, kernel=linear;, score=0.664 total time=   0.2s\n"
     ]
    },
    {
     "name": "stderr",
     "output_type": "stream",
     "text": [
      "C:\\Anaconda\\Lib\\site-packages\\sklearn\\utils\\validation.py:1339: DataConversionWarning: A column-vector y was passed when a 1d array was expected. Please change the shape of y to (n_samples, ), for example using ravel().\n",
      "  y = column_or_1d(y, warn=True)\n"
     ]
    },
    {
     "name": "stdout",
     "output_type": "stream",
     "text": [
      "[CV 3/5] END C=1000, gamma=scale, kernel=linear;, score=0.559 total time=   0.3s\n"
     ]
    },
    {
     "name": "stderr",
     "output_type": "stream",
     "text": [
      "C:\\Anaconda\\Lib\\site-packages\\sklearn\\utils\\validation.py:1339: DataConversionWarning: A column-vector y was passed when a 1d array was expected. Please change the shape of y to (n_samples, ), for example using ravel().\n",
      "  y = column_or_1d(y, warn=True)\n"
     ]
    },
    {
     "name": "stdout",
     "output_type": "stream",
     "text": [
      "[CV 4/5] END C=1000, gamma=scale, kernel=linear;, score=0.583 total time=   0.2s\n"
     ]
    },
    {
     "name": "stderr",
     "output_type": "stream",
     "text": [
      "C:\\Anaconda\\Lib\\site-packages\\sklearn\\utils\\validation.py:1339: DataConversionWarning: A column-vector y was passed when a 1d array was expected. Please change the shape of y to (n_samples, ), for example using ravel().\n",
      "  y = column_or_1d(y, warn=True)\n"
     ]
    },
    {
     "name": "stdout",
     "output_type": "stream",
     "text": [
      "[CV 5/5] END C=1000, gamma=scale, kernel=linear;, score=0.559 total time=   0.2s\n",
      "[CV 1/5] END ...C=2000, gamma=auto, kernel=rbf;, score=-0.041 total time=   0.0s\n",
      "[CV 2/5] END ....C=2000, gamma=auto, kernel=rbf;, score=0.087 total time=   0.0s\n"
     ]
    },
    {
     "name": "stderr",
     "output_type": "stream",
     "text": [
      "C:\\Anaconda\\Lib\\site-packages\\sklearn\\utils\\validation.py:1339: DataConversionWarning: A column-vector y was passed when a 1d array was expected. Please change the shape of y to (n_samples, ), for example using ravel().\n",
      "  y = column_or_1d(y, warn=True)\n",
      "C:\\Anaconda\\Lib\\site-packages\\sklearn\\utils\\validation.py:1339: DataConversionWarning: A column-vector y was passed when a 1d array was expected. Please change the shape of y to (n_samples, ), for example using ravel().\n",
      "  y = column_or_1d(y, warn=True)\n",
      "C:\\Anaconda\\Lib\\site-packages\\sklearn\\utils\\validation.py:1339: DataConversionWarning: A column-vector y was passed when a 1d array was expected. Please change the shape of y to (n_samples, ), for example using ravel().\n",
      "  y = column_or_1d(y, warn=True)\n"
     ]
    },
    {
     "name": "stdout",
     "output_type": "stream",
     "text": [
      "[CV 3/5] END ...C=2000, gamma=auto, kernel=rbf;, score=-0.144 total time=   0.0s\n",
      "[CV 4/5] END ...C=2000, gamma=auto, kernel=rbf;, score=-0.130 total time=   0.0s\n",
      "[CV 5/5] END ...C=2000, gamma=auto, kernel=rbf;, score=-0.106 total time=   0.0s\n"
     ]
    },
    {
     "name": "stderr",
     "output_type": "stream",
     "text": [
      "C:\\Anaconda\\Lib\\site-packages\\sklearn\\utils\\validation.py:1339: DataConversionWarning: A column-vector y was passed when a 1d array was expected. Please change the shape of y to (n_samples, ), for example using ravel().\n",
      "  y = column_or_1d(y, warn=True)\n",
      "C:\\Anaconda\\Lib\\site-packages\\sklearn\\utils\\validation.py:1339: DataConversionWarning: A column-vector y was passed when a 1d array was expected. Please change the shape of y to (n_samples, ), for example using ravel().\n",
      "  y = column_or_1d(y, warn=True)\n",
      "C:\\Anaconda\\Lib\\site-packages\\sklearn\\utils\\validation.py:1339: DataConversionWarning: A column-vector y was passed when a 1d array was expected. Please change the shape of y to (n_samples, ), for example using ravel().\n",
      "  y = column_or_1d(y, warn=True)\n"
     ]
    },
    {
     "name": "stdout",
     "output_type": "stream",
     "text": [
      "[CV 1/5] END C=2000, gamma=auto, kernel=sigmoid;, score=-0.042 total time=   0.0s\n",
      "[CV 2/5] END C=2000, gamma=auto, kernel=sigmoid;, score=-0.038 total time=   0.0s\n",
      "[CV 3/5] END C=2000, gamma=auto, kernel=sigmoid;, score=-0.149 total time=   0.0s\n",
      "[CV 4/5] END C=2000, gamma=auto, kernel=sigmoid;, score=-0.139 total time=   0.0s\n"
     ]
    },
    {
     "name": "stderr",
     "output_type": "stream",
     "text": [
      "C:\\Anaconda\\Lib\\site-packages\\sklearn\\utils\\validation.py:1339: DataConversionWarning: A column-vector y was passed when a 1d array was expected. Please change the shape of y to (n_samples, ), for example using ravel().\n",
      "  y = column_or_1d(y, warn=True)\n",
      "C:\\Anaconda\\Lib\\site-packages\\sklearn\\utils\\validation.py:1339: DataConversionWarning: A column-vector y was passed when a 1d array was expected. Please change the shape of y to (n_samples, ), for example using ravel().\n",
      "  y = column_or_1d(y, warn=True)\n",
      "C:\\Anaconda\\Lib\\site-packages\\sklearn\\utils\\validation.py:1339: DataConversionWarning: A column-vector y was passed when a 1d array was expected. Please change the shape of y to (n_samples, ), for example using ravel().\n",
      "  y = column_or_1d(y, warn=True)\n",
      "C:\\Anaconda\\Lib\\site-packages\\sklearn\\utils\\validation.py:1339: DataConversionWarning: A column-vector y was passed when a 1d array was expected. Please change the shape of y to (n_samples, ), for example using ravel().\n",
      "  y = column_or_1d(y, warn=True)\n"
     ]
    },
    {
     "name": "stdout",
     "output_type": "stream",
     "text": [
      "[CV 5/5] END C=2000, gamma=auto, kernel=sigmoid;, score=-0.142 total time=   0.0s\n"
     ]
    },
    {
     "name": "stderr",
     "output_type": "stream",
     "text": [
      "C:\\Anaconda\\Lib\\site-packages\\sklearn\\utils\\validation.py:1339: DataConversionWarning: A column-vector y was passed when a 1d array was expected. Please change the shape of y to (n_samples, ), for example using ravel().\n",
      "  y = column_or_1d(y, warn=True)\n"
     ]
    },
    {
     "name": "stdout",
     "output_type": "stream",
     "text": [
      "[CV 1/5] END .C=2000, gamma=auto, kernel=linear;, score=0.600 total time=   0.4s\n"
     ]
    },
    {
     "name": "stderr",
     "output_type": "stream",
     "text": [
      "C:\\Anaconda\\Lib\\site-packages\\sklearn\\utils\\validation.py:1339: DataConversionWarning: A column-vector y was passed when a 1d array was expected. Please change the shape of y to (n_samples, ), for example using ravel().\n",
      "  y = column_or_1d(y, warn=True)\n"
     ]
    },
    {
     "name": "stdout",
     "output_type": "stream",
     "text": [
      "[CV 2/5] END .C=2000, gamma=auto, kernel=linear;, score=0.664 total time=   0.4s\n"
     ]
    },
    {
     "name": "stderr",
     "output_type": "stream",
     "text": [
      "C:\\Anaconda\\Lib\\site-packages\\sklearn\\utils\\validation.py:1339: DataConversionWarning: A column-vector y was passed when a 1d array was expected. Please change the shape of y to (n_samples, ), for example using ravel().\n",
      "  y = column_or_1d(y, warn=True)\n"
     ]
    },
    {
     "name": "stdout",
     "output_type": "stream",
     "text": [
      "[CV 3/5] END .C=2000, gamma=auto, kernel=linear;, score=0.565 total time=   0.5s\n"
     ]
    },
    {
     "name": "stderr",
     "output_type": "stream",
     "text": [
      "C:\\Anaconda\\Lib\\site-packages\\sklearn\\utils\\validation.py:1339: DataConversionWarning: A column-vector y was passed when a 1d array was expected. Please change the shape of y to (n_samples, ), for example using ravel().\n",
      "  y = column_or_1d(y, warn=True)\n"
     ]
    },
    {
     "name": "stdout",
     "output_type": "stream",
     "text": [
      "[CV 4/5] END .C=2000, gamma=auto, kernel=linear;, score=0.619 total time=   0.4s\n"
     ]
    },
    {
     "name": "stderr",
     "output_type": "stream",
     "text": [
      "C:\\Anaconda\\Lib\\site-packages\\sklearn\\utils\\validation.py:1339: DataConversionWarning: A column-vector y was passed when a 1d array was expected. Please change the shape of y to (n_samples, ), for example using ravel().\n",
      "  y = column_or_1d(y, warn=True)\n"
     ]
    },
    {
     "name": "stdout",
     "output_type": "stream",
     "text": [
      "[CV 5/5] END .C=2000, gamma=auto, kernel=linear;, score=0.564 total time=   0.4s\n",
      "[CV 1/5] END ..C=2000, gamma=scale, kernel=rbf;, score=-0.188 total time=   0.0s\n",
      "[CV 2/5] END ...C=2000, gamma=scale, kernel=rbf;, score=0.030 total time=   0.0s\n",
      "[CV 3/5] END ..C=2000, gamma=scale, kernel=rbf;, score=-0.237 total time=   0.0s\n"
     ]
    },
    {
     "name": "stderr",
     "output_type": "stream",
     "text": [
      "C:\\Anaconda\\Lib\\site-packages\\sklearn\\utils\\validation.py:1339: DataConversionWarning: A column-vector y was passed when a 1d array was expected. Please change the shape of y to (n_samples, ), for example using ravel().\n",
      "  y = column_or_1d(y, warn=True)\n",
      "C:\\Anaconda\\Lib\\site-packages\\sklearn\\utils\\validation.py:1339: DataConversionWarning: A column-vector y was passed when a 1d array was expected. Please change the shape of y to (n_samples, ), for example using ravel().\n",
      "  y = column_or_1d(y, warn=True)\n",
      "C:\\Anaconda\\Lib\\site-packages\\sklearn\\utils\\validation.py:1339: DataConversionWarning: A column-vector y was passed when a 1d array was expected. Please change the shape of y to (n_samples, ), for example using ravel().\n",
      "  y = column_or_1d(y, warn=True)\n",
      "C:\\Anaconda\\Lib\\site-packages\\sklearn\\utils\\validation.py:1339: DataConversionWarning: A column-vector y was passed when a 1d array was expected. Please change the shape of y to (n_samples, ), for example using ravel().\n",
      "  y = column_or_1d(y, warn=True)\n"
     ]
    },
    {
     "name": "stdout",
     "output_type": "stream",
     "text": [
      "[CV 4/5] END ..C=2000, gamma=scale, kernel=rbf;, score=-0.257 total time=   0.0s\n",
      "[CV 5/5] END ..C=2000, gamma=scale, kernel=rbf;, score=-0.169 total time=   0.0s\n",
      "[CV 1/5] END C=2000, gamma=scale, kernel=sigmoid;, score=-4.205 total time=   0.0s\n",
      "[CV 2/5] END C=2000, gamma=scale, kernel=sigmoid;, score=-4.640 total time=   0.0s\n"
     ]
    },
    {
     "name": "stderr",
     "output_type": "stream",
     "text": [
      "C:\\Anaconda\\Lib\\site-packages\\sklearn\\utils\\validation.py:1339: DataConversionWarning: A column-vector y was passed when a 1d array was expected. Please change the shape of y to (n_samples, ), for example using ravel().\n",
      "  y = column_or_1d(y, warn=True)\n",
      "C:\\Anaconda\\Lib\\site-packages\\sklearn\\utils\\validation.py:1339: DataConversionWarning: A column-vector y was passed when a 1d array was expected. Please change the shape of y to (n_samples, ), for example using ravel().\n",
      "  y = column_or_1d(y, warn=True)\n",
      "C:\\Anaconda\\Lib\\site-packages\\sklearn\\utils\\validation.py:1339: DataConversionWarning: A column-vector y was passed when a 1d array was expected. Please change the shape of y to (n_samples, ), for example using ravel().\n",
      "  y = column_or_1d(y, warn=True)\n",
      "C:\\Anaconda\\Lib\\site-packages\\sklearn\\utils\\validation.py:1339: DataConversionWarning: A column-vector y was passed when a 1d array was expected. Please change the shape of y to (n_samples, ), for example using ravel().\n",
      "  y = column_or_1d(y, warn=True)\n"
     ]
    },
    {
     "name": "stdout",
     "output_type": "stream",
     "text": [
      "[CV 3/5] END C=2000, gamma=scale, kernel=sigmoid;, score=-3.600 total time=   0.0s\n",
      "[CV 4/5] END C=2000, gamma=scale, kernel=sigmoid;, score=-4.266 total time=   0.0s\n",
      "[CV 5/5] END C=2000, gamma=scale, kernel=sigmoid;, score=-3.612 total time=   0.0s\n"
     ]
    },
    {
     "name": "stderr",
     "output_type": "stream",
     "text": [
      "C:\\Anaconda\\Lib\\site-packages\\sklearn\\utils\\validation.py:1339: DataConversionWarning: A column-vector y was passed when a 1d array was expected. Please change the shape of y to (n_samples, ), for example using ravel().\n",
      "  y = column_or_1d(y, warn=True)\n",
      "C:\\Anaconda\\Lib\\site-packages\\sklearn\\utils\\validation.py:1339: DataConversionWarning: A column-vector y was passed when a 1d array was expected. Please change the shape of y to (n_samples, ), for example using ravel().\n",
      "  y = column_or_1d(y, warn=True)\n",
      "C:\\Anaconda\\Lib\\site-packages\\sklearn\\utils\\validation.py:1339: DataConversionWarning: A column-vector y was passed when a 1d array was expected. Please change the shape of y to (n_samples, ), for example using ravel().\n",
      "  y = column_or_1d(y, warn=True)\n"
     ]
    },
    {
     "name": "stdout",
     "output_type": "stream",
     "text": [
      "[CV 1/5] END C=2000, gamma=scale, kernel=linear;, score=0.600 total time=   0.4s\n"
     ]
    },
    {
     "name": "stderr",
     "output_type": "stream",
     "text": [
      "C:\\Anaconda\\Lib\\site-packages\\sklearn\\utils\\validation.py:1339: DataConversionWarning: A column-vector y was passed when a 1d array was expected. Please change the shape of y to (n_samples, ), for example using ravel().\n",
      "  y = column_or_1d(y, warn=True)\n"
     ]
    },
    {
     "name": "stdout",
     "output_type": "stream",
     "text": [
      "[CV 2/5] END C=2000, gamma=scale, kernel=linear;, score=0.664 total time=   0.3s\n"
     ]
    },
    {
     "name": "stderr",
     "output_type": "stream",
     "text": [
      "C:\\Anaconda\\Lib\\site-packages\\sklearn\\utils\\validation.py:1339: DataConversionWarning: A column-vector y was passed when a 1d array was expected. Please change the shape of y to (n_samples, ), for example using ravel().\n",
      "  y = column_or_1d(y, warn=True)\n"
     ]
    },
    {
     "name": "stdout",
     "output_type": "stream",
     "text": [
      "[CV 3/5] END C=2000, gamma=scale, kernel=linear;, score=0.565 total time=   0.5s\n"
     ]
    },
    {
     "name": "stderr",
     "output_type": "stream",
     "text": [
      "C:\\Anaconda\\Lib\\site-packages\\sklearn\\utils\\validation.py:1339: DataConversionWarning: A column-vector y was passed when a 1d array was expected. Please change the shape of y to (n_samples, ), for example using ravel().\n",
      "  y = column_or_1d(y, warn=True)\n"
     ]
    },
    {
     "name": "stdout",
     "output_type": "stream",
     "text": [
      "[CV 4/5] END C=2000, gamma=scale, kernel=linear;, score=0.619 total time=   0.4s\n"
     ]
    },
    {
     "name": "stderr",
     "output_type": "stream",
     "text": [
      "C:\\Anaconda\\Lib\\site-packages\\sklearn\\utils\\validation.py:1339: DataConversionWarning: A column-vector y was passed when a 1d array was expected. Please change the shape of y to (n_samples, ), for example using ravel().\n",
      "  y = column_or_1d(y, warn=True)\n"
     ]
    },
    {
     "name": "stdout",
     "output_type": "stream",
     "text": [
      "[CV 5/5] END C=2000, gamma=scale, kernel=linear;, score=0.564 total time=   0.4s\n"
     ]
    },
    {
     "name": "stderr",
     "output_type": "stream",
     "text": [
      "C:\\Anaconda\\Lib\\site-packages\\sklearn\\utils\\validation.py:1339: DataConversionWarning: A column-vector y was passed when a 1d array was expected. Please change the shape of y to (n_samples, ), for example using ravel().\n",
      "  y = column_or_1d(y, warn=True)\n"
     ]
    }
   ],
   "source": [
    "# Model fit\n",
    "grid = grid.fit(X_train,y_train)"
   ]
  },
  {
   "cell_type": "code",
   "execution_count": 14,
   "id": "36e54162-481a-4c31-93a9-824734565aea",
   "metadata": {},
   "outputs": [
    {
     "name": "stdout",
     "output_type": "stream",
     "text": [
      "{'C': 2000, 'gamma': 'auto', 'kernel': 'linear'}\n"
     ]
    }
   ],
   "source": [
    "print (grid.best_params_)"
   ]
  },
  {
   "cell_type": "code",
   "execution_count": 15,
   "id": "c76cf12d-e157-4072-998a-d26e25e299c5",
   "metadata": {},
   "outputs": [
    {
     "name": "stdout",
     "output_type": "stream",
     "text": [
      "{'mean_fit_time': array([0.0500309 , 0.02535014, 0.03773847, 0.03543539, 0.04564562,\n",
      "       0.03939052, 0.03856754, 0.02474256, 0.08188281, 0.03535652,\n",
      "       0.04518018, 0.08250828, 0.04266343, 0.02674661, 0.12779994,\n",
      "       0.03120685, 0.04982042, 0.13885393, 0.05811887, 0.02952838,\n",
      "       0.30622668, 0.04004064, 0.04118519, 0.29195657, 0.07320662,\n",
      "       0.05521946, 0.50944963, 0.03683758, 0.04743133, 0.49419823]), 'std_fit_time': array([0.00738039, 0.00842392, 0.00643916, 0.00476643, 0.00411518,\n",
      "       0.00506613, 0.00865456, 0.00799098, 0.01635406, 0.00553832,\n",
      "       0.00789123, 0.02296854, 0.00442038, 0.00525682, 0.01042958,\n",
      "       0.00343315, 0.00496066, 0.01276204, 0.00236138, 0.0061358 ,\n",
      "       0.03749455, 0.00658477, 0.01031156, 0.02986229, 0.00611941,\n",
      "       0.01965218, 0.06033986, 0.0051387 , 0.0156801 , 0.05220053]), 'mean_score_time': array([0.01690779, 0.00835004, 0.00578904, 0.02001476, 0.00724735,\n",
      "       0.00668163, 0.02196469, 0.01082425, 0.00505095, 0.01870546,\n",
      "       0.00754128, 0.0060473 , 0.01938481, 0.00980282, 0.01233201,\n",
      "       0.01674109, 0.01167173, 0.00886979, 0.02027879, 0.00576334,\n",
      "       0.00427594, 0.02022634, 0.01171002, 0.00392241, 0.02116346,\n",
      "       0.00847454, 0.01006937, 0.0249228 , 0.01136074, 0.00531321]), 'std_score_time': array([0.00444454, 0.00706893, 0.00576372, 0.00559998, 0.0076824 ,\n",
      "       0.00602777, 0.00781059, 0.0042499 , 0.0025414 , 0.00701619,\n",
      "       0.00815664, 0.00669527, 0.00500168, 0.00624753, 0.00527501,\n",
      "       0.0025822 , 0.00862579, 0.00665833, 0.00456417, 0.00614177,\n",
      "       0.0059804 , 0.00505201, 0.00605022, 0.00321065, 0.00611013,\n",
      "       0.0070694 , 0.00551037, 0.00685163, 0.00608529, 0.00571459]), 'param_C': masked_array(data=[10, 10, 10, 10, 10, 10, 100, 100, 100, 100, 100, 100,\n",
      "                   300, 300, 300, 300, 300, 300, 1000, 1000, 1000, 1000,\n",
      "                   1000, 1000, 2000, 2000, 2000, 2000, 2000, 2000],\n",
      "             mask=[False, False, False, False, False, False, False, False,\n",
      "                   False, False, False, False, False, False, False, False,\n",
      "                   False, False, False, False, False, False, False, False,\n",
      "                   False, False, False, False, False, False],\n",
      "       fill_value=999999), 'param_gamma': masked_array(data=['auto', 'auto', 'auto', 'scale', 'scale', 'scale',\n",
      "                   'auto', 'auto', 'auto', 'scale', 'scale', 'scale',\n",
      "                   'auto', 'auto', 'auto', 'scale', 'scale', 'scale',\n",
      "                   'auto', 'auto', 'auto', 'scale', 'scale', 'scale',\n",
      "                   'auto', 'auto', 'auto', 'scale', 'scale', 'scale'],\n",
      "             mask=[False, False, False, False, False, False, False, False,\n",
      "                   False, False, False, False, False, False, False, False,\n",
      "                   False, False, False, False, False, False, False, False,\n",
      "                   False, False, False, False, False, False],\n",
      "       fill_value='?',\n",
      "            dtype=object), 'param_kernel': masked_array(data=['rbf', 'sigmoid', 'linear', 'rbf', 'sigmoid', 'linear',\n",
      "                   'rbf', 'sigmoid', 'linear', 'rbf', 'sigmoid', 'linear',\n",
      "                   'rbf', 'sigmoid', 'linear', 'rbf', 'sigmoid', 'linear',\n",
      "                   'rbf', 'sigmoid', 'linear', 'rbf', 'sigmoid', 'linear',\n",
      "                   'rbf', 'sigmoid', 'linear', 'rbf', 'sigmoid', 'linear'],\n",
      "             mask=[False, False, False, False, False, False, False, False,\n",
      "                   False, False, False, False, False, False, False, False,\n",
      "                   False, False, False, False, False, False, False, False,\n",
      "                   False, False, False, False, False, False],\n",
      "       fill_value='?',\n",
      "            dtype=object), 'params': [{'C': 10, 'gamma': 'auto', 'kernel': 'rbf'}, {'C': 10, 'gamma': 'auto', 'kernel': 'sigmoid'}, {'C': 10, 'gamma': 'auto', 'kernel': 'linear'}, {'C': 10, 'gamma': 'scale', 'kernel': 'rbf'}, {'C': 10, 'gamma': 'scale', 'kernel': 'sigmoid'}, {'C': 10, 'gamma': 'scale', 'kernel': 'linear'}, {'C': 100, 'gamma': 'auto', 'kernel': 'rbf'}, {'C': 100, 'gamma': 'auto', 'kernel': 'sigmoid'}, {'C': 100, 'gamma': 'auto', 'kernel': 'linear'}, {'C': 100, 'gamma': 'scale', 'kernel': 'rbf'}, {'C': 100, 'gamma': 'scale', 'kernel': 'sigmoid'}, {'C': 100, 'gamma': 'scale', 'kernel': 'linear'}, {'C': 300, 'gamma': 'auto', 'kernel': 'rbf'}, {'C': 300, 'gamma': 'auto', 'kernel': 'sigmoid'}, {'C': 300, 'gamma': 'auto', 'kernel': 'linear'}, {'C': 300, 'gamma': 'scale', 'kernel': 'rbf'}, {'C': 300, 'gamma': 'scale', 'kernel': 'sigmoid'}, {'C': 300, 'gamma': 'scale', 'kernel': 'linear'}, {'C': 1000, 'gamma': 'auto', 'kernel': 'rbf'}, {'C': 1000, 'gamma': 'auto', 'kernel': 'sigmoid'}, {'C': 1000, 'gamma': 'auto', 'kernel': 'linear'}, {'C': 1000, 'gamma': 'scale', 'kernel': 'rbf'}, {'C': 1000, 'gamma': 'scale', 'kernel': 'sigmoid'}, {'C': 1000, 'gamma': 'scale', 'kernel': 'linear'}, {'C': 2000, 'gamma': 'auto', 'kernel': 'rbf'}, {'C': 2000, 'gamma': 'auto', 'kernel': 'sigmoid'}, {'C': 2000, 'gamma': 'auto', 'kernel': 'linear'}, {'C': 2000, 'gamma': 'scale', 'kernel': 'rbf'}, {'C': 2000, 'gamma': 'scale', 'kernel': 'sigmoid'}, {'C': 2000, 'gamma': 'scale', 'kernel': 'linear'}], 'split0_test_score': array([-0.04189924, -0.04163422, -0.09984888, -0.04547724, -0.04287667,\n",
      "       -0.09984888, -0.04010704, -0.04163422,  0.47779496, -0.15854611,\n",
      "       -0.05956133,  0.47779496, -0.04197498, -0.04163422,  0.56132374,\n",
      "       -0.18905852, -0.13403266,  0.56132374, -0.06443401, -0.04163422,\n",
      "        0.59228756, -0.19142177, -1.14129511,  0.59228756, -0.04147286,\n",
      "       -0.04163422,  0.60033992, -0.18813775, -4.20469931,  0.60033992]), 'split1_test_score': array([-3.59309399e-02, -3.80768055e-02,  1.09497794e-01, -1.33356124e-02,\n",
      "       -3.95115417e-02,  1.09497794e-01, -2.09717109e-02, -3.80768055e-02,\n",
      "        5.82292428e-01,  1.37749489e-02, -6.34802328e-02,  5.82292428e-01,\n",
      "        1.33038241e-03, -3.80768055e-02,  6.39623662e-01,  1.33367829e-02,\n",
      "       -1.61038352e-01,  6.39623662e-01,  4.11689294e-02, -3.80768055e-02,\n",
      "        6.63607124e-01,  2.19624077e-02, -1.26970255e+00,  6.63607124e-01,\n",
      "        8.69557692e-02, -3.80768055e-02,  6.64453506e-01,  2.97576476e-02,\n",
      "       -4.63989836e+00,  6.64453506e-01]), 'split2_test_score': array([-0.14715112, -0.14867375, -0.1361956 , -0.1517906 , -0.15015362,\n",
      "       -0.1361956 , -0.14068305, -0.14867375,  0.43207877, -0.24312713,\n",
      "       -0.15536761,  0.43207877, -0.14094317, -0.14867375,  0.52784659,\n",
      "       -0.25428078, -0.21861152,  0.52784659, -0.17362708, -0.14867375,\n",
      "        0.55934717, -0.24659026, -1.07468842,  0.55934717, -0.14358292,\n",
      "       -0.14867375,  0.56469282, -0.23742525, -3.60043109,  0.56469282]), 'split3_test_score': array([-0.13998707, -0.13869767, -0.14138099, -0.15196699, -0.13849233,\n",
      "       -0.14138099, -0.13793147, -0.13869767,  0.45898313, -0.25451996,\n",
      "       -0.15275665,  0.45898313, -0.14644406, -0.13869767,  0.55290822,\n",
      "       -0.27016398, -0.21663316,  0.55290822, -0.16239535, -0.13869767,\n",
      "        0.58263587, -0.26481333, -1.22198187,  0.58263587, -0.12967462,\n",
      "       -0.13869767,  0.61869194, -0.25676001, -4.26557528,  0.61869194]), 'split4_test_score': array([-0.14220569, -0.1421374 , -0.07543177, -0.13944758, -0.14339556,\n",
      "       -0.07543177, -0.13374936, -0.1421374 ,  0.43951071, -0.16678165,\n",
      "       -0.16011487,  0.43951071, -0.13341952, -0.1421374 ,  0.52345348,\n",
      "       -0.17681185, -0.22467602,  0.52345348, -0.13137521, -0.1421374 ,\n",
      "        0.55884944, -0.17493537, -1.15463399,  0.55884944, -0.10618635,\n",
      "       -0.1421374 ,  0.56356668, -0.16870073, -3.61237517,  0.56356668]), 'mean_test_score': array([-0.10143481, -0.10184397, -0.06867189, -0.1004036 , -0.10288594,\n",
      "       -0.06867189, -0.09468853, -0.10184397,  0.478132  , -0.16183998,\n",
      "       -0.11825614,  0.478132  , -0.09229027, -0.10184397,  0.56103114,\n",
      "       -0.17539567, -0.19099834,  0.56103114, -0.09813254, -0.10184397,\n",
      "        0.59134543, -0.17115967, -1.17246039,  0.59134543, -0.0667922 ,\n",
      "       -0.10184397,  0.60234898, -0.16425322, -4.06459584,  0.60234898]), 'std_test_score': array([0.05113465, 0.05072721, 0.09231273, 0.05902809, 0.05051832,\n",
      "       0.09231273, 0.05277216, 0.05072721, 0.05445859, 0.09599276,\n",
      "       0.04640082, 0.05445859, 0.06047778, 0.05072721, 0.04184769,\n",
      "       0.10100744, 0.03659647, 0.04184769, 0.07934066, 0.05072721,\n",
      "       0.03841452, 0.10215843, 0.06746381, 0.03841452, 0.08447771,\n",
      "       0.05072721, 0.03755038, 0.10211966, 0.40272749, 0.03755038]), 'rank_test_score': array([16, 17, 10, 15, 22, 10, 13, 17,  7, 24, 23,  7, 12, 17,  5, 27, 28,\n",
      "        5, 14, 17,  3, 26, 29,  3,  9, 17,  1, 25, 30,  1])}\n"
     ]
    }
   ],
   "source": [
    "# stores the Grid Results into the re variable and prints\n",
    "re = grid.cv_results_\n",
    "print(re)"
   ]
  },
  {
   "cell_type": "code",
   "execution_count": 16,
   "id": "3ddb24d8-356f-49b7-9325-f5a38b467602",
   "metadata": {},
   "outputs": [],
   "source": [
    "# Model creation with the prepared grid\n",
    "grid_predictions = grid.predict(X_test)"
   ]
  },
  {
   "cell_type": "code",
   "execution_count": 17,
   "id": "5c5dd0cd-4d6d-403d-808d-b98c2efcf0a6",
   "metadata": {},
   "outputs": [
    {
     "data": {
      "text/html": [
       "<div>\n",
       "<style scoped>\n",
       "    .dataframe tbody tr th:only-of-type {\n",
       "        vertical-align: middle;\n",
       "    }\n",
       "\n",
       "    .dataframe tbody tr th {\n",
       "        vertical-align: top;\n",
       "    }\n",
       "\n",
       "    .dataframe thead th {\n",
       "        text-align: right;\n",
       "    }\n",
       "</style>\n",
       "<table border=\"1\" class=\"dataframe\">\n",
       "  <thead>\n",
       "    <tr style=\"text-align: right;\">\n",
       "      <th></th>\n",
       "      <th>mean_fit_time</th>\n",
       "      <th>std_fit_time</th>\n",
       "      <th>mean_score_time</th>\n",
       "      <th>std_score_time</th>\n",
       "      <th>param_C</th>\n",
       "      <th>param_gamma</th>\n",
       "      <th>param_kernel</th>\n",
       "      <th>params</th>\n",
       "      <th>split0_test_score</th>\n",
       "      <th>split1_test_score</th>\n",
       "      <th>split2_test_score</th>\n",
       "      <th>split3_test_score</th>\n",
       "      <th>split4_test_score</th>\n",
       "      <th>mean_test_score</th>\n",
       "      <th>std_test_score</th>\n",
       "      <th>rank_test_score</th>\n",
       "    </tr>\n",
       "  </thead>\n",
       "  <tbody>\n",
       "    <tr>\n",
       "      <th>0</th>\n",
       "      <td>0.050031</td>\n",
       "      <td>0.007380</td>\n",
       "      <td>0.016908</td>\n",
       "      <td>0.004445</td>\n",
       "      <td>10</td>\n",
       "      <td>auto</td>\n",
       "      <td>rbf</td>\n",
       "      <td>{'C': 10, 'gamma': 'auto', 'kernel': 'rbf'}</td>\n",
       "      <td>-0.041899</td>\n",
       "      <td>-0.035931</td>\n",
       "      <td>-0.147151</td>\n",
       "      <td>-0.139987</td>\n",
       "      <td>-0.142206</td>\n",
       "      <td>-0.101435</td>\n",
       "      <td>0.051135</td>\n",
       "      <td>16</td>\n",
       "    </tr>\n",
       "    <tr>\n",
       "      <th>1</th>\n",
       "      <td>0.025350</td>\n",
       "      <td>0.008424</td>\n",
       "      <td>0.008350</td>\n",
       "      <td>0.007069</td>\n",
       "      <td>10</td>\n",
       "      <td>auto</td>\n",
       "      <td>sigmoid</td>\n",
       "      <td>{'C': 10, 'gamma': 'auto', 'kernel': 'sigmoid'}</td>\n",
       "      <td>-0.041634</td>\n",
       "      <td>-0.038077</td>\n",
       "      <td>-0.148674</td>\n",
       "      <td>-0.138698</td>\n",
       "      <td>-0.142137</td>\n",
       "      <td>-0.101844</td>\n",
       "      <td>0.050727</td>\n",
       "      <td>17</td>\n",
       "    </tr>\n",
       "    <tr>\n",
       "      <th>2</th>\n",
       "      <td>0.037738</td>\n",
       "      <td>0.006439</td>\n",
       "      <td>0.005789</td>\n",
       "      <td>0.005764</td>\n",
       "      <td>10</td>\n",
       "      <td>auto</td>\n",
       "      <td>linear</td>\n",
       "      <td>{'C': 10, 'gamma': 'auto', 'kernel': 'linear'}</td>\n",
       "      <td>-0.099849</td>\n",
       "      <td>0.109498</td>\n",
       "      <td>-0.136196</td>\n",
       "      <td>-0.141381</td>\n",
       "      <td>-0.075432</td>\n",
       "      <td>-0.068672</td>\n",
       "      <td>0.092313</td>\n",
       "      <td>10</td>\n",
       "    </tr>\n",
       "    <tr>\n",
       "      <th>3</th>\n",
       "      <td>0.035435</td>\n",
       "      <td>0.004766</td>\n",
       "      <td>0.020015</td>\n",
       "      <td>0.005600</td>\n",
       "      <td>10</td>\n",
       "      <td>scale</td>\n",
       "      <td>rbf</td>\n",
       "      <td>{'C': 10, 'gamma': 'scale', 'kernel': 'rbf'}</td>\n",
       "      <td>-0.045477</td>\n",
       "      <td>-0.013336</td>\n",
       "      <td>-0.151791</td>\n",
       "      <td>-0.151967</td>\n",
       "      <td>-0.139448</td>\n",
       "      <td>-0.100404</td>\n",
       "      <td>0.059028</td>\n",
       "      <td>15</td>\n",
       "    </tr>\n",
       "    <tr>\n",
       "      <th>4</th>\n",
       "      <td>0.045646</td>\n",
       "      <td>0.004115</td>\n",
       "      <td>0.007247</td>\n",
       "      <td>0.007682</td>\n",
       "      <td>10</td>\n",
       "      <td>scale</td>\n",
       "      <td>sigmoid</td>\n",
       "      <td>{'C': 10, 'gamma': 'scale', 'kernel': 'sigmoid'}</td>\n",
       "      <td>-0.042877</td>\n",
       "      <td>-0.039512</td>\n",
       "      <td>-0.150154</td>\n",
       "      <td>-0.138492</td>\n",
       "      <td>-0.143396</td>\n",
       "      <td>-0.102886</td>\n",
       "      <td>0.050518</td>\n",
       "      <td>22</td>\n",
       "    </tr>\n",
       "    <tr>\n",
       "      <th>5</th>\n",
       "      <td>0.039391</td>\n",
       "      <td>0.005066</td>\n",
       "      <td>0.006682</td>\n",
       "      <td>0.006028</td>\n",
       "      <td>10</td>\n",
       "      <td>scale</td>\n",
       "      <td>linear</td>\n",
       "      <td>{'C': 10, 'gamma': 'scale', 'kernel': 'linear'}</td>\n",
       "      <td>-0.099849</td>\n",
       "      <td>0.109498</td>\n",
       "      <td>-0.136196</td>\n",
       "      <td>-0.141381</td>\n",
       "      <td>-0.075432</td>\n",
       "      <td>-0.068672</td>\n",
       "      <td>0.092313</td>\n",
       "      <td>10</td>\n",
       "    </tr>\n",
       "    <tr>\n",
       "      <th>6</th>\n",
       "      <td>0.038568</td>\n",
       "      <td>0.008655</td>\n",
       "      <td>0.021965</td>\n",
       "      <td>0.007811</td>\n",
       "      <td>100</td>\n",
       "      <td>auto</td>\n",
       "      <td>rbf</td>\n",
       "      <td>{'C': 100, 'gamma': 'auto', 'kernel': 'rbf'}</td>\n",
       "      <td>-0.040107</td>\n",
       "      <td>-0.020972</td>\n",
       "      <td>-0.140683</td>\n",
       "      <td>-0.137931</td>\n",
       "      <td>-0.133749</td>\n",
       "      <td>-0.094689</td>\n",
       "      <td>0.052772</td>\n",
       "      <td>13</td>\n",
       "    </tr>\n",
       "    <tr>\n",
       "      <th>7</th>\n",
       "      <td>0.024743</td>\n",
       "      <td>0.007991</td>\n",
       "      <td>0.010824</td>\n",
       "      <td>0.004250</td>\n",
       "      <td>100</td>\n",
       "      <td>auto</td>\n",
       "      <td>sigmoid</td>\n",
       "      <td>{'C': 100, 'gamma': 'auto', 'kernel': 'sigmoid'}</td>\n",
       "      <td>-0.041634</td>\n",
       "      <td>-0.038077</td>\n",
       "      <td>-0.148674</td>\n",
       "      <td>-0.138698</td>\n",
       "      <td>-0.142137</td>\n",
       "      <td>-0.101844</td>\n",
       "      <td>0.050727</td>\n",
       "      <td>17</td>\n",
       "    </tr>\n",
       "    <tr>\n",
       "      <th>8</th>\n",
       "      <td>0.081883</td>\n",
       "      <td>0.016354</td>\n",
       "      <td>0.005051</td>\n",
       "      <td>0.002541</td>\n",
       "      <td>100</td>\n",
       "      <td>auto</td>\n",
       "      <td>linear</td>\n",
       "      <td>{'C': 100, 'gamma': 'auto', 'kernel': 'linear'}</td>\n",
       "      <td>0.477795</td>\n",
       "      <td>0.582292</td>\n",
       "      <td>0.432079</td>\n",
       "      <td>0.458983</td>\n",
       "      <td>0.439511</td>\n",
       "      <td>0.478132</td>\n",
       "      <td>0.054459</td>\n",
       "      <td>7</td>\n",
       "    </tr>\n",
       "    <tr>\n",
       "      <th>9</th>\n",
       "      <td>0.035357</td>\n",
       "      <td>0.005538</td>\n",
       "      <td>0.018705</td>\n",
       "      <td>0.007016</td>\n",
       "      <td>100</td>\n",
       "      <td>scale</td>\n",
       "      <td>rbf</td>\n",
       "      <td>{'C': 100, 'gamma': 'scale', 'kernel': 'rbf'}</td>\n",
       "      <td>-0.158546</td>\n",
       "      <td>0.013775</td>\n",
       "      <td>-0.243127</td>\n",
       "      <td>-0.254520</td>\n",
       "      <td>-0.166782</td>\n",
       "      <td>-0.161840</td>\n",
       "      <td>0.095993</td>\n",
       "      <td>24</td>\n",
       "    </tr>\n",
       "    <tr>\n",
       "      <th>10</th>\n",
       "      <td>0.045180</td>\n",
       "      <td>0.007891</td>\n",
       "      <td>0.007541</td>\n",
       "      <td>0.008157</td>\n",
       "      <td>100</td>\n",
       "      <td>scale</td>\n",
       "      <td>sigmoid</td>\n",
       "      <td>{'C': 100, 'gamma': 'scale', 'kernel': 'sigmoid'}</td>\n",
       "      <td>-0.059561</td>\n",
       "      <td>-0.063480</td>\n",
       "      <td>-0.155368</td>\n",
       "      <td>-0.152757</td>\n",
       "      <td>-0.160115</td>\n",
       "      <td>-0.118256</td>\n",
       "      <td>0.046401</td>\n",
       "      <td>23</td>\n",
       "    </tr>\n",
       "    <tr>\n",
       "      <th>11</th>\n",
       "      <td>0.082508</td>\n",
       "      <td>0.022969</td>\n",
       "      <td>0.006047</td>\n",
       "      <td>0.006695</td>\n",
       "      <td>100</td>\n",
       "      <td>scale</td>\n",
       "      <td>linear</td>\n",
       "      <td>{'C': 100, 'gamma': 'scale', 'kernel': 'linear'}</td>\n",
       "      <td>0.477795</td>\n",
       "      <td>0.582292</td>\n",
       "      <td>0.432079</td>\n",
       "      <td>0.458983</td>\n",
       "      <td>0.439511</td>\n",
       "      <td>0.478132</td>\n",
       "      <td>0.054459</td>\n",
       "      <td>7</td>\n",
       "    </tr>\n",
       "    <tr>\n",
       "      <th>12</th>\n",
       "      <td>0.042663</td>\n",
       "      <td>0.004420</td>\n",
       "      <td>0.019385</td>\n",
       "      <td>0.005002</td>\n",
       "      <td>300</td>\n",
       "      <td>auto</td>\n",
       "      <td>rbf</td>\n",
       "      <td>{'C': 300, 'gamma': 'auto', 'kernel': 'rbf'}</td>\n",
       "      <td>-0.041975</td>\n",
       "      <td>0.001330</td>\n",
       "      <td>-0.140943</td>\n",
       "      <td>-0.146444</td>\n",
       "      <td>-0.133420</td>\n",
       "      <td>-0.092290</td>\n",
       "      <td>0.060478</td>\n",
       "      <td>12</td>\n",
       "    </tr>\n",
       "    <tr>\n",
       "      <th>13</th>\n",
       "      <td>0.026747</td>\n",
       "      <td>0.005257</td>\n",
       "      <td>0.009803</td>\n",
       "      <td>0.006248</td>\n",
       "      <td>300</td>\n",
       "      <td>auto</td>\n",
       "      <td>sigmoid</td>\n",
       "      <td>{'C': 300, 'gamma': 'auto', 'kernel': 'sigmoid'}</td>\n",
       "      <td>-0.041634</td>\n",
       "      <td>-0.038077</td>\n",
       "      <td>-0.148674</td>\n",
       "      <td>-0.138698</td>\n",
       "      <td>-0.142137</td>\n",
       "      <td>-0.101844</td>\n",
       "      <td>0.050727</td>\n",
       "      <td>17</td>\n",
       "    </tr>\n",
       "    <tr>\n",
       "      <th>14</th>\n",
       "      <td>0.127800</td>\n",
       "      <td>0.010430</td>\n",
       "      <td>0.012332</td>\n",
       "      <td>0.005275</td>\n",
       "      <td>300</td>\n",
       "      <td>auto</td>\n",
       "      <td>linear</td>\n",
       "      <td>{'C': 300, 'gamma': 'auto', 'kernel': 'linear'}</td>\n",
       "      <td>0.561324</td>\n",
       "      <td>0.639624</td>\n",
       "      <td>0.527847</td>\n",
       "      <td>0.552908</td>\n",
       "      <td>0.523453</td>\n",
       "      <td>0.561031</td>\n",
       "      <td>0.041848</td>\n",
       "      <td>5</td>\n",
       "    </tr>\n",
       "    <tr>\n",
       "      <th>15</th>\n",
       "      <td>0.031207</td>\n",
       "      <td>0.003433</td>\n",
       "      <td>0.016741</td>\n",
       "      <td>0.002582</td>\n",
       "      <td>300</td>\n",
       "      <td>scale</td>\n",
       "      <td>rbf</td>\n",
       "      <td>{'C': 300, 'gamma': 'scale', 'kernel': 'rbf'}</td>\n",
       "      <td>-0.189059</td>\n",
       "      <td>0.013337</td>\n",
       "      <td>-0.254281</td>\n",
       "      <td>-0.270164</td>\n",
       "      <td>-0.176812</td>\n",
       "      <td>-0.175396</td>\n",
       "      <td>0.101007</td>\n",
       "      <td>27</td>\n",
       "    </tr>\n",
       "    <tr>\n",
       "      <th>16</th>\n",
       "      <td>0.049820</td>\n",
       "      <td>0.004961</td>\n",
       "      <td>0.011672</td>\n",
       "      <td>0.008626</td>\n",
       "      <td>300</td>\n",
       "      <td>scale</td>\n",
       "      <td>sigmoid</td>\n",
       "      <td>{'C': 300, 'gamma': 'scale', 'kernel': 'sigmoid'}</td>\n",
       "      <td>-0.134033</td>\n",
       "      <td>-0.161038</td>\n",
       "      <td>-0.218612</td>\n",
       "      <td>-0.216633</td>\n",
       "      <td>-0.224676</td>\n",
       "      <td>-0.190998</td>\n",
       "      <td>0.036596</td>\n",
       "      <td>28</td>\n",
       "    </tr>\n",
       "    <tr>\n",
       "      <th>17</th>\n",
       "      <td>0.138854</td>\n",
       "      <td>0.012762</td>\n",
       "      <td>0.008870</td>\n",
       "      <td>0.006658</td>\n",
       "      <td>300</td>\n",
       "      <td>scale</td>\n",
       "      <td>linear</td>\n",
       "      <td>{'C': 300, 'gamma': 'scale', 'kernel': 'linear'}</td>\n",
       "      <td>0.561324</td>\n",
       "      <td>0.639624</td>\n",
       "      <td>0.527847</td>\n",
       "      <td>0.552908</td>\n",
       "      <td>0.523453</td>\n",
       "      <td>0.561031</td>\n",
       "      <td>0.041848</td>\n",
       "      <td>5</td>\n",
       "    </tr>\n",
       "    <tr>\n",
       "      <th>18</th>\n",
       "      <td>0.058119</td>\n",
       "      <td>0.002361</td>\n",
       "      <td>0.020279</td>\n",
       "      <td>0.004564</td>\n",
       "      <td>1000</td>\n",
       "      <td>auto</td>\n",
       "      <td>rbf</td>\n",
       "      <td>{'C': 1000, 'gamma': 'auto', 'kernel': 'rbf'}</td>\n",
       "      <td>-0.064434</td>\n",
       "      <td>0.041169</td>\n",
       "      <td>-0.173627</td>\n",
       "      <td>-0.162395</td>\n",
       "      <td>-0.131375</td>\n",
       "      <td>-0.098133</td>\n",
       "      <td>0.079341</td>\n",
       "      <td>14</td>\n",
       "    </tr>\n",
       "    <tr>\n",
       "      <th>19</th>\n",
       "      <td>0.029528</td>\n",
       "      <td>0.006136</td>\n",
       "      <td>0.005763</td>\n",
       "      <td>0.006142</td>\n",
       "      <td>1000</td>\n",
       "      <td>auto</td>\n",
       "      <td>sigmoid</td>\n",
       "      <td>{'C': 1000, 'gamma': 'auto', 'kernel': 'sigmoid'}</td>\n",
       "      <td>-0.041634</td>\n",
       "      <td>-0.038077</td>\n",
       "      <td>-0.148674</td>\n",
       "      <td>-0.138698</td>\n",
       "      <td>-0.142137</td>\n",
       "      <td>-0.101844</td>\n",
       "      <td>0.050727</td>\n",
       "      <td>17</td>\n",
       "    </tr>\n",
       "    <tr>\n",
       "      <th>20</th>\n",
       "      <td>0.306227</td>\n",
       "      <td>0.037495</td>\n",
       "      <td>0.004276</td>\n",
       "      <td>0.005980</td>\n",
       "      <td>1000</td>\n",
       "      <td>auto</td>\n",
       "      <td>linear</td>\n",
       "      <td>{'C': 1000, 'gamma': 'auto', 'kernel': 'linear'}</td>\n",
       "      <td>0.592288</td>\n",
       "      <td>0.663607</td>\n",
       "      <td>0.559347</td>\n",
       "      <td>0.582636</td>\n",
       "      <td>0.558849</td>\n",
       "      <td>0.591345</td>\n",
       "      <td>0.038415</td>\n",
       "      <td>3</td>\n",
       "    </tr>\n",
       "    <tr>\n",
       "      <th>21</th>\n",
       "      <td>0.040041</td>\n",
       "      <td>0.006585</td>\n",
       "      <td>0.020226</td>\n",
       "      <td>0.005052</td>\n",
       "      <td>1000</td>\n",
       "      <td>scale</td>\n",
       "      <td>rbf</td>\n",
       "      <td>{'C': 1000, 'gamma': 'scale', 'kernel': 'rbf'}</td>\n",
       "      <td>-0.191422</td>\n",
       "      <td>0.021962</td>\n",
       "      <td>-0.246590</td>\n",
       "      <td>-0.264813</td>\n",
       "      <td>-0.174935</td>\n",
       "      <td>-0.171160</td>\n",
       "      <td>0.102158</td>\n",
       "      <td>26</td>\n",
       "    </tr>\n",
       "    <tr>\n",
       "      <th>22</th>\n",
       "      <td>0.041185</td>\n",
       "      <td>0.010312</td>\n",
       "      <td>0.011710</td>\n",
       "      <td>0.006050</td>\n",
       "      <td>1000</td>\n",
       "      <td>scale</td>\n",
       "      <td>sigmoid</td>\n",
       "      <td>{'C': 1000, 'gamma': 'scale', 'kernel': 'sigmo...</td>\n",
       "      <td>-1.141295</td>\n",
       "      <td>-1.269703</td>\n",
       "      <td>-1.074688</td>\n",
       "      <td>-1.221982</td>\n",
       "      <td>-1.154634</td>\n",
       "      <td>-1.172460</td>\n",
       "      <td>0.067464</td>\n",
       "      <td>29</td>\n",
       "    </tr>\n",
       "    <tr>\n",
       "      <th>23</th>\n",
       "      <td>0.291957</td>\n",
       "      <td>0.029862</td>\n",
       "      <td>0.003922</td>\n",
       "      <td>0.003211</td>\n",
       "      <td>1000</td>\n",
       "      <td>scale</td>\n",
       "      <td>linear</td>\n",
       "      <td>{'C': 1000, 'gamma': 'scale', 'kernel': 'linear'}</td>\n",
       "      <td>0.592288</td>\n",
       "      <td>0.663607</td>\n",
       "      <td>0.559347</td>\n",
       "      <td>0.582636</td>\n",
       "      <td>0.558849</td>\n",
       "      <td>0.591345</td>\n",
       "      <td>0.038415</td>\n",
       "      <td>3</td>\n",
       "    </tr>\n",
       "    <tr>\n",
       "      <th>24</th>\n",
       "      <td>0.073207</td>\n",
       "      <td>0.006119</td>\n",
       "      <td>0.021163</td>\n",
       "      <td>0.006110</td>\n",
       "      <td>2000</td>\n",
       "      <td>auto</td>\n",
       "      <td>rbf</td>\n",
       "      <td>{'C': 2000, 'gamma': 'auto', 'kernel': 'rbf'}</td>\n",
       "      <td>-0.041473</td>\n",
       "      <td>0.086956</td>\n",
       "      <td>-0.143583</td>\n",
       "      <td>-0.129675</td>\n",
       "      <td>-0.106186</td>\n",
       "      <td>-0.066792</td>\n",
       "      <td>0.084478</td>\n",
       "      <td>9</td>\n",
       "    </tr>\n",
       "    <tr>\n",
       "      <th>25</th>\n",
       "      <td>0.055219</td>\n",
       "      <td>0.019652</td>\n",
       "      <td>0.008475</td>\n",
       "      <td>0.007069</td>\n",
       "      <td>2000</td>\n",
       "      <td>auto</td>\n",
       "      <td>sigmoid</td>\n",
       "      <td>{'C': 2000, 'gamma': 'auto', 'kernel': 'sigmoid'}</td>\n",
       "      <td>-0.041634</td>\n",
       "      <td>-0.038077</td>\n",
       "      <td>-0.148674</td>\n",
       "      <td>-0.138698</td>\n",
       "      <td>-0.142137</td>\n",
       "      <td>-0.101844</td>\n",
       "      <td>0.050727</td>\n",
       "      <td>17</td>\n",
       "    </tr>\n",
       "    <tr>\n",
       "      <th>26</th>\n",
       "      <td>0.509450</td>\n",
       "      <td>0.060340</td>\n",
       "      <td>0.010069</td>\n",
       "      <td>0.005510</td>\n",
       "      <td>2000</td>\n",
       "      <td>auto</td>\n",
       "      <td>linear</td>\n",
       "      <td>{'C': 2000, 'gamma': 'auto', 'kernel': 'linear'}</td>\n",
       "      <td>0.600340</td>\n",
       "      <td>0.664454</td>\n",
       "      <td>0.564693</td>\n",
       "      <td>0.618692</td>\n",
       "      <td>0.563567</td>\n",
       "      <td>0.602349</td>\n",
       "      <td>0.037550</td>\n",
       "      <td>1</td>\n",
       "    </tr>\n",
       "    <tr>\n",
       "      <th>27</th>\n",
       "      <td>0.036838</td>\n",
       "      <td>0.005139</td>\n",
       "      <td>0.024923</td>\n",
       "      <td>0.006852</td>\n",
       "      <td>2000</td>\n",
       "      <td>scale</td>\n",
       "      <td>rbf</td>\n",
       "      <td>{'C': 2000, 'gamma': 'scale', 'kernel': 'rbf'}</td>\n",
       "      <td>-0.188138</td>\n",
       "      <td>0.029758</td>\n",
       "      <td>-0.237425</td>\n",
       "      <td>-0.256760</td>\n",
       "      <td>-0.168701</td>\n",
       "      <td>-0.164253</td>\n",
       "      <td>0.102120</td>\n",
       "      <td>25</td>\n",
       "    </tr>\n",
       "    <tr>\n",
       "      <th>28</th>\n",
       "      <td>0.047431</td>\n",
       "      <td>0.015680</td>\n",
       "      <td>0.011361</td>\n",
       "      <td>0.006085</td>\n",
       "      <td>2000</td>\n",
       "      <td>scale</td>\n",
       "      <td>sigmoid</td>\n",
       "      <td>{'C': 2000, 'gamma': 'scale', 'kernel': 'sigmo...</td>\n",
       "      <td>-4.204699</td>\n",
       "      <td>-4.639898</td>\n",
       "      <td>-3.600431</td>\n",
       "      <td>-4.265575</td>\n",
       "      <td>-3.612375</td>\n",
       "      <td>-4.064596</td>\n",
       "      <td>0.402727</td>\n",
       "      <td>30</td>\n",
       "    </tr>\n",
       "    <tr>\n",
       "      <th>29</th>\n",
       "      <td>0.494198</td>\n",
       "      <td>0.052201</td>\n",
       "      <td>0.005313</td>\n",
       "      <td>0.005715</td>\n",
       "      <td>2000</td>\n",
       "      <td>scale</td>\n",
       "      <td>linear</td>\n",
       "      <td>{'C': 2000, 'gamma': 'scale', 'kernel': 'linear'}</td>\n",
       "      <td>0.600340</td>\n",
       "      <td>0.664454</td>\n",
       "      <td>0.564693</td>\n",
       "      <td>0.618692</td>\n",
       "      <td>0.563567</td>\n",
       "      <td>0.602349</td>\n",
       "      <td>0.037550</td>\n",
       "      <td>1</td>\n",
       "    </tr>\n",
       "  </tbody>\n",
       "</table>\n",
       "</div>"
      ],
      "text/plain": [
       "    mean_fit_time  std_fit_time  mean_score_time  std_score_time  param_C  \\\n",
       "0        0.050031      0.007380         0.016908        0.004445       10   \n",
       "1        0.025350      0.008424         0.008350        0.007069       10   \n",
       "2        0.037738      0.006439         0.005789        0.005764       10   \n",
       "3        0.035435      0.004766         0.020015        0.005600       10   \n",
       "4        0.045646      0.004115         0.007247        0.007682       10   \n",
       "5        0.039391      0.005066         0.006682        0.006028       10   \n",
       "6        0.038568      0.008655         0.021965        0.007811      100   \n",
       "7        0.024743      0.007991         0.010824        0.004250      100   \n",
       "8        0.081883      0.016354         0.005051        0.002541      100   \n",
       "9        0.035357      0.005538         0.018705        0.007016      100   \n",
       "10       0.045180      0.007891         0.007541        0.008157      100   \n",
       "11       0.082508      0.022969         0.006047        0.006695      100   \n",
       "12       0.042663      0.004420         0.019385        0.005002      300   \n",
       "13       0.026747      0.005257         0.009803        0.006248      300   \n",
       "14       0.127800      0.010430         0.012332        0.005275      300   \n",
       "15       0.031207      0.003433         0.016741        0.002582      300   \n",
       "16       0.049820      0.004961         0.011672        0.008626      300   \n",
       "17       0.138854      0.012762         0.008870        0.006658      300   \n",
       "18       0.058119      0.002361         0.020279        0.004564     1000   \n",
       "19       0.029528      0.006136         0.005763        0.006142     1000   \n",
       "20       0.306227      0.037495         0.004276        0.005980     1000   \n",
       "21       0.040041      0.006585         0.020226        0.005052     1000   \n",
       "22       0.041185      0.010312         0.011710        0.006050     1000   \n",
       "23       0.291957      0.029862         0.003922        0.003211     1000   \n",
       "24       0.073207      0.006119         0.021163        0.006110     2000   \n",
       "25       0.055219      0.019652         0.008475        0.007069     2000   \n",
       "26       0.509450      0.060340         0.010069        0.005510     2000   \n",
       "27       0.036838      0.005139         0.024923        0.006852     2000   \n",
       "28       0.047431      0.015680         0.011361        0.006085     2000   \n",
       "29       0.494198      0.052201         0.005313        0.005715     2000   \n",
       "\n",
       "   param_gamma param_kernel  \\\n",
       "0         auto          rbf   \n",
       "1         auto      sigmoid   \n",
       "2         auto       linear   \n",
       "3        scale          rbf   \n",
       "4        scale      sigmoid   \n",
       "5        scale       linear   \n",
       "6         auto          rbf   \n",
       "7         auto      sigmoid   \n",
       "8         auto       linear   \n",
       "9        scale          rbf   \n",
       "10       scale      sigmoid   \n",
       "11       scale       linear   \n",
       "12        auto          rbf   \n",
       "13        auto      sigmoid   \n",
       "14        auto       linear   \n",
       "15       scale          rbf   \n",
       "16       scale      sigmoid   \n",
       "17       scale       linear   \n",
       "18        auto          rbf   \n",
       "19        auto      sigmoid   \n",
       "20        auto       linear   \n",
       "21       scale          rbf   \n",
       "22       scale      sigmoid   \n",
       "23       scale       linear   \n",
       "24        auto          rbf   \n",
       "25        auto      sigmoid   \n",
       "26        auto       linear   \n",
       "27       scale          rbf   \n",
       "28       scale      sigmoid   \n",
       "29       scale       linear   \n",
       "\n",
       "                                               params  split0_test_score  \\\n",
       "0         {'C': 10, 'gamma': 'auto', 'kernel': 'rbf'}          -0.041899   \n",
       "1     {'C': 10, 'gamma': 'auto', 'kernel': 'sigmoid'}          -0.041634   \n",
       "2      {'C': 10, 'gamma': 'auto', 'kernel': 'linear'}          -0.099849   \n",
       "3        {'C': 10, 'gamma': 'scale', 'kernel': 'rbf'}          -0.045477   \n",
       "4    {'C': 10, 'gamma': 'scale', 'kernel': 'sigmoid'}          -0.042877   \n",
       "5     {'C': 10, 'gamma': 'scale', 'kernel': 'linear'}          -0.099849   \n",
       "6        {'C': 100, 'gamma': 'auto', 'kernel': 'rbf'}          -0.040107   \n",
       "7    {'C': 100, 'gamma': 'auto', 'kernel': 'sigmoid'}          -0.041634   \n",
       "8     {'C': 100, 'gamma': 'auto', 'kernel': 'linear'}           0.477795   \n",
       "9       {'C': 100, 'gamma': 'scale', 'kernel': 'rbf'}          -0.158546   \n",
       "10  {'C': 100, 'gamma': 'scale', 'kernel': 'sigmoid'}          -0.059561   \n",
       "11   {'C': 100, 'gamma': 'scale', 'kernel': 'linear'}           0.477795   \n",
       "12       {'C': 300, 'gamma': 'auto', 'kernel': 'rbf'}          -0.041975   \n",
       "13   {'C': 300, 'gamma': 'auto', 'kernel': 'sigmoid'}          -0.041634   \n",
       "14    {'C': 300, 'gamma': 'auto', 'kernel': 'linear'}           0.561324   \n",
       "15      {'C': 300, 'gamma': 'scale', 'kernel': 'rbf'}          -0.189059   \n",
       "16  {'C': 300, 'gamma': 'scale', 'kernel': 'sigmoid'}          -0.134033   \n",
       "17   {'C': 300, 'gamma': 'scale', 'kernel': 'linear'}           0.561324   \n",
       "18      {'C': 1000, 'gamma': 'auto', 'kernel': 'rbf'}          -0.064434   \n",
       "19  {'C': 1000, 'gamma': 'auto', 'kernel': 'sigmoid'}          -0.041634   \n",
       "20   {'C': 1000, 'gamma': 'auto', 'kernel': 'linear'}           0.592288   \n",
       "21     {'C': 1000, 'gamma': 'scale', 'kernel': 'rbf'}          -0.191422   \n",
       "22  {'C': 1000, 'gamma': 'scale', 'kernel': 'sigmo...          -1.141295   \n",
       "23  {'C': 1000, 'gamma': 'scale', 'kernel': 'linear'}           0.592288   \n",
       "24      {'C': 2000, 'gamma': 'auto', 'kernel': 'rbf'}          -0.041473   \n",
       "25  {'C': 2000, 'gamma': 'auto', 'kernel': 'sigmoid'}          -0.041634   \n",
       "26   {'C': 2000, 'gamma': 'auto', 'kernel': 'linear'}           0.600340   \n",
       "27     {'C': 2000, 'gamma': 'scale', 'kernel': 'rbf'}          -0.188138   \n",
       "28  {'C': 2000, 'gamma': 'scale', 'kernel': 'sigmo...          -4.204699   \n",
       "29  {'C': 2000, 'gamma': 'scale', 'kernel': 'linear'}           0.600340   \n",
       "\n",
       "    split1_test_score  split2_test_score  split3_test_score  \\\n",
       "0           -0.035931          -0.147151          -0.139987   \n",
       "1           -0.038077          -0.148674          -0.138698   \n",
       "2            0.109498          -0.136196          -0.141381   \n",
       "3           -0.013336          -0.151791          -0.151967   \n",
       "4           -0.039512          -0.150154          -0.138492   \n",
       "5            0.109498          -0.136196          -0.141381   \n",
       "6           -0.020972          -0.140683          -0.137931   \n",
       "7           -0.038077          -0.148674          -0.138698   \n",
       "8            0.582292           0.432079           0.458983   \n",
       "9            0.013775          -0.243127          -0.254520   \n",
       "10          -0.063480          -0.155368          -0.152757   \n",
       "11           0.582292           0.432079           0.458983   \n",
       "12           0.001330          -0.140943          -0.146444   \n",
       "13          -0.038077          -0.148674          -0.138698   \n",
       "14           0.639624           0.527847           0.552908   \n",
       "15           0.013337          -0.254281          -0.270164   \n",
       "16          -0.161038          -0.218612          -0.216633   \n",
       "17           0.639624           0.527847           0.552908   \n",
       "18           0.041169          -0.173627          -0.162395   \n",
       "19          -0.038077          -0.148674          -0.138698   \n",
       "20           0.663607           0.559347           0.582636   \n",
       "21           0.021962          -0.246590          -0.264813   \n",
       "22          -1.269703          -1.074688          -1.221982   \n",
       "23           0.663607           0.559347           0.582636   \n",
       "24           0.086956          -0.143583          -0.129675   \n",
       "25          -0.038077          -0.148674          -0.138698   \n",
       "26           0.664454           0.564693           0.618692   \n",
       "27           0.029758          -0.237425          -0.256760   \n",
       "28          -4.639898          -3.600431          -4.265575   \n",
       "29           0.664454           0.564693           0.618692   \n",
       "\n",
       "    split4_test_score  mean_test_score  std_test_score  rank_test_score  \n",
       "0           -0.142206        -0.101435        0.051135               16  \n",
       "1           -0.142137        -0.101844        0.050727               17  \n",
       "2           -0.075432        -0.068672        0.092313               10  \n",
       "3           -0.139448        -0.100404        0.059028               15  \n",
       "4           -0.143396        -0.102886        0.050518               22  \n",
       "5           -0.075432        -0.068672        0.092313               10  \n",
       "6           -0.133749        -0.094689        0.052772               13  \n",
       "7           -0.142137        -0.101844        0.050727               17  \n",
       "8            0.439511         0.478132        0.054459                7  \n",
       "9           -0.166782        -0.161840        0.095993               24  \n",
       "10          -0.160115        -0.118256        0.046401               23  \n",
       "11           0.439511         0.478132        0.054459                7  \n",
       "12          -0.133420        -0.092290        0.060478               12  \n",
       "13          -0.142137        -0.101844        0.050727               17  \n",
       "14           0.523453         0.561031        0.041848                5  \n",
       "15          -0.176812        -0.175396        0.101007               27  \n",
       "16          -0.224676        -0.190998        0.036596               28  \n",
       "17           0.523453         0.561031        0.041848                5  \n",
       "18          -0.131375        -0.098133        0.079341               14  \n",
       "19          -0.142137        -0.101844        0.050727               17  \n",
       "20           0.558849         0.591345        0.038415                3  \n",
       "21          -0.174935        -0.171160        0.102158               26  \n",
       "22          -1.154634        -1.172460        0.067464               29  \n",
       "23           0.558849         0.591345        0.038415                3  \n",
       "24          -0.106186        -0.066792        0.084478                9  \n",
       "25          -0.142137        -0.101844        0.050727               17  \n",
       "26           0.563567         0.602349        0.037550                1  \n",
       "27          -0.168701        -0.164253        0.102120               25  \n",
       "28          -3.612375        -4.064596        0.402727               30  \n",
       "29           0.563567         0.602349        0.037550                1  "
      ]
     },
     "execution_count": 17,
     "metadata": {},
     "output_type": "execute_result"
    }
   ],
   "source": [
    "# re stores the result into dictionary format (dict) and changes into table format\n",
    "table = pd.DataFrame.from_dict(re)\n",
    "table"
   ]
  },
  {
   "cell_type": "code",
   "execution_count": 29,
   "id": "0706071d-e94d-4183-94f7-80dd36c05357",
   "metadata": {},
   "outputs": [
    {
     "data": {
      "text/plain": [
       "0.6893263105100382"
      ]
     },
     "execution_count": 29,
     "metadata": {},
     "output_type": "execute_result"
    }
   ],
   "source": [
    "# R_score\n",
    "\n",
    "from sklearn.metrics import r2_score\n",
    "r_score = r2_score(y_test, grid_predictions)\n",
    "r_score"
   ]
  },
  {
   "cell_type": "code",
   "execution_count": 32,
   "id": "5838845b-3a6b-4a11-afb9-4a93efee94a8",
   "metadata": {},
   "outputs": [
    {
     "name": "stdout",
     "output_type": "stream",
     "text": [
      "R_score {'C': 2000, 'gamma': 'auto', 'kernel': 'linear'} :  0.6893263105100382\n"
     ]
    }
   ],
   "source": [
    "print (\"R_score {} : \". format(grid.best_params_),r_score)\n",
    "#print(\"TheR_score valueforbestparameter{}:\".format(grid.best_params_))"
   ]
  },
  {
   "cell_type": "code",
   "execution_count": 26,
   "id": "bf6fb6cb-f718-4da3-876f-2a1e29829702",
   "metadata": {},
   "outputs": [
    {
     "name": "stdin",
     "output_type": "stream",
     "text": [
      "Age: 19\n",
      "BMI: 23\n",
      "Children: 2\n",
      "Sex Male 0 or 1: 0\n",
      "Smoker Yes 0 or 1: 1\n"
     ]
    }
   ],
   "source": [
    "age_input=float(input(\"Age:\"))\n",
    "bmi_input=float(input(\"BMI:\"))\n",
    "children_input=float(input(\"Children:\"))\n",
    "sex_male_input=int(input(\"Sex Male 0 or 1:\"))\n",
    "smoker_yes_input=int(input(\"Smoker Yes 0 or 1:\"))"
   ]
  },
  {
   "cell_type": "code",
   "execution_count": 27,
   "id": "911095f4-b4d4-4582-8435-f08eda9e5526",
   "metadata": {},
   "outputs": [
    {
     "name": "stdout",
     "output_type": "stream",
     "text": [
      "Future_Prediction=[20739.75786638]\n"
     ]
    },
    {
     "name": "stderr",
     "output_type": "stream",
     "text": [
      "C:\\Anaconda\\Lib\\site-packages\\sklearn\\base.py:493: UserWarning: X does not have valid feature names, but SVR was fitted with feature names\n",
      "  warnings.warn(\n"
     ]
    }
   ],
   "source": [
    "Future_Prediction=grid.predict([[age_input,bmi_input,children_input,sex_male_input,smoker_yes_input]])\n",
    "print(\"Future_Prediction={}\".format(Future_Prediction))"
   ]
  },
  {
   "cell_type": "code",
   "execution_count": null,
   "id": "a930e821-a6f4-42b1-b814-b142d0c725bc",
   "metadata": {},
   "outputs": [],
   "source": []
  }
 ],
 "metadata": {
  "kernelspec": {
   "display_name": "Python 3 (ipykernel)",
   "language": "python",
   "name": "python3"
  },
  "language_info": {
   "codemirror_mode": {
    "name": "ipython",
    "version": 3
   },
   "file_extension": ".py",
   "mimetype": "text/x-python",
   "name": "python",
   "nbconvert_exporter": "python",
   "pygments_lexer": "ipython3",
   "version": "3.12.7"
  }
 },
 "nbformat": 4,
 "nbformat_minor": 5
}
