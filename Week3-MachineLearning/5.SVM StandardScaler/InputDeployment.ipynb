{
 "cells": [
  {
   "cell_type": "code",
   "execution_count": 8,
   "id": "b81ddc4c-d77a-4859-9f16-f5d8581bcd40",
   "metadata": {},
   "outputs": [],
   "source": [
    "import pandas as pd\n",
    "import joblib\n",
    "import numpy as np"
   ]
  },
  {
   "cell_type": "code",
   "execution_count": 9,
   "id": "70093122-1298-488e-9d8d-d025a4b9210e",
   "metadata": {},
   "outputs": [],
   "source": [
    "# Load the saved StandardScaler\n",
    "loaded_preinput = joblib.load('standard_scaler.pkl')"
   ]
  },
  {
   "cell_type": "code",
   "execution_count": 15,
   "id": "98e85e1e-5657-483e-a9f5-2c25e6a69a8f",
   "metadata": {},
   "outputs": [
    {
     "ename": "NameError",
     "evalue": "name 'features_to_scale' is not defined",
     "output_type": "error",
     "traceback": [
      "\u001b[1;31m---------------------------------------------------------------------------\u001b[0m",
      "\u001b[1;31mNameError\u001b[0m                                 Traceback (most recent call last)",
      "Cell \u001b[1;32mIn[15], line 3\u001b[0m\n\u001b[0;32m      1\u001b[0m \u001b[38;5;66;03m# Load your new, unseen data (e.g., from a real-time data source or new file)\u001b[39;00m\n\u001b[0;32m      2\u001b[0m loaded_preinput\u001b[38;5;241m=\u001b[39m([[\u001b[38;5;241m1300\u001b[39m,\u001b[38;5;241m12000\u001b[39m,\u001b[38;5;241m400\u001b[39m,\u001b[38;5;241m0\u001b[39m,\u001b[38;5;241m1\u001b[39m]])\n\u001b[1;32m----> 3\u001b[0m X_new \u001b[38;5;241m=\u001b[39m loaded_preinput[features_to_scale]\n",
      "\u001b[1;31mNameError\u001b[0m: name 'features_to_scale' is not defined"
     ]
    }
   ],
   "source": [
    "# Load your new, unseen data (e.g., from a real-time data source or new file)\n",
    "loaded_preinput=([[1300,12000,400,0,1]])\n",
    "X_new = loaded_preinput[features_to_scale]"
   ]
  },
  {
   "cell_type": "code",
   "execution_count": 14,
   "id": "9b74efd8-769b-45ec-8d11-c5c1102701ec",
   "metadata": {},
   "outputs": [
    {
     "ename": "AttributeError",
     "evalue": "'list' object has no attribute 'transform'",
     "output_type": "error",
     "traceback": [
      "\u001b[1;31m---------------------------------------------------------------------------\u001b[0m",
      "\u001b[1;31mAttributeError\u001b[0m                            Traceback (most recent call last)",
      "Cell \u001b[1;32mIn[14], line 1\u001b[0m\n\u001b[1;32m----> 1\u001b[0m result \u001b[38;5;241m=\u001b[39mloaded_preinput\u001b[38;5;241m.\u001b[39mtransform()\n",
      "\u001b[1;31mAttributeError\u001b[0m: 'list' object has no attribute 'transform'"
     ]
    }
   ],
   "source": [
    "result =loaded_preinput.transform()\n"
   ]
  },
  {
   "cell_type": "code",
   "execution_count": null,
   "id": "5dbcf481-341d-42bf-8af0-14dc0a24bd44",
   "metadata": {},
   "outputs": [],
   "source": []
  }
 ],
 "metadata": {
  "kernelspec": {
   "display_name": "Python 3 (ipykernel)",
   "language": "python",
   "name": "python3"
  },
  "language_info": {
   "codemirror_mode": {
    "name": "ipython",
    "version": 3
   },
   "file_extension": ".py",
   "mimetype": "text/x-python",
   "name": "python",
   "nbconvert_exporter": "python",
   "pygments_lexer": "ipython3",
   "version": "3.12.7"
  }
 },
 "nbformat": 4,
 "nbformat_minor": 5
}
