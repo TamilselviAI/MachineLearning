{
 "cells": [
  {
   "cell_type": "code",
   "execution_count": 16,
   "id": "075b56a0-0a47-4a7f-a1dd-a86b25ba0fbf",
   "metadata": {},
   "outputs": [],
   "source": [
    "import pandas as pd\n",
    "import pickle\n",
    "dataset = pd.read_csv(\"50_Startups.csv\")\n",
    "\n",
    "datanomin = pd.get_dummies(dataset, dtype=int, drop_first=True)\n",
    "indep = datanomin[['R&D Spend', 'Administration', 'Marketing Spend','State_Florida', 'State_New York']]\n",
    "dep = datanomin[['Profit']]\n",
    "from sklearn.model_selection import train_test_split\n",
    "X_train,X_test, y_train, y_test = train_test_split(indep, dep, test_size = 0.3, random_state=0)"
   ]
  },
  {
   "cell_type": "code",
   "execution_count": 2,
   "id": "af4d5fa2-6b85-4532-baa5-5d317c83f014",
   "metadata": {},
   "outputs": [],
   "source": [
    "#Preprocessing starts here\n",
    "from sklearn.preprocessing import StandardScaler\n",
    "# Preprocessing the input\n",
    "\n",
    "sc = StandardScaler()\n",
    "X_train = sc.fit_transform(X_train)\n",
    "X_test = sc.transform(X_test)"
   ]
  },
  {
   "cell_type": "code",
   "execution_count": 10,
   "id": "f330273d-8365-4392-9bb0-8ba8a7a05b8b",
   "metadata": {},
   "outputs": [],
   "source": [
    "# Preprocessing the Output\n",
    "\n",
    "scy = StandardScaler()\n",
    "y_train = scy.fit_transform(y_train)\n",
    "y_test = scy.transform(y_test)"
   ]
  },
  {
   "cell_type": "code",
   "execution_count": 11,
   "id": "bd0187fe-9146-4762-8a52-59957332eced",
   "metadata": {},
   "outputs": [
    {
     "name": "stderr",
     "output_type": "stream",
     "text": [
      "C:\\Anaconda\\Lib\\site-packages\\sklearn\\base.py:493: UserWarning: X does not have valid feature names, but StandardScaler was fitted with feature names\n",
      "  warnings.warn(\n"
     ]
    }
   ],
   "source": [
    "preinput = sc.transform([[1300,12000,400,0,1]])"
   ]
  },
  {
   "cell_type": "code",
   "execution_count": 12,
   "id": "dd7077b2-84a3-453b-83c5-49037b4b4c1a",
   "metadata": {},
   "outputs": [
    {
     "data": {
      "text/plain": [
       "array([[-1.46755405, -4.33835385, -1.53502686, -0.5       ,  1.30088727]])"
      ]
     },
     "execution_count": 12,
     "metadata": {},
     "output_type": "execute_result"
    }
   ],
   "source": [
    "preinput"
   ]
  },
  {
   "cell_type": "code",
   "execution_count": 13,
   "id": "cea80839-9f4c-48f1-8e63-62558e566d0b",
   "metadata": {},
   "outputs": [],
   "source": [
    "loaded_model = pickle.load(open(\"final_model_SC_input_output.sav\",'rb'))"
   ]
  },
  {
   "cell_type": "code",
   "execution_count": 14,
   "id": "af7106a4-4426-4b8c-861d-bc5b7b625fd1",
   "metadata": {},
   "outputs": [
    {
     "data": {
      "text/plain": [
       "array([-1.03222673])"
      ]
     },
     "execution_count": 14,
     "metadata": {},
     "output_type": "execute_result"
    }
   ],
   "source": [
    "result = loaded_model.predict(preinput)\n",
    "result"
   ]
  },
  {
   "cell_type": "code",
   "execution_count": 15,
   "id": "1242f73f-ff74-4f6f-8f8a-834988ce56b5",
   "metadata": {},
   "outputs": [
    {
     "data": {
      "text/plain": [
       "array([[65826.3978636]])"
      ]
     },
     "execution_count": 15,
     "metadata": {},
     "output_type": "execute_result"
    }
   ],
   "source": [
    "preoutput = scy.inverse_transform([result])\n",
    "preoutput"
   ]
  },
  {
   "cell_type": "code",
   "execution_count": null,
   "id": "b3948236-1daa-49de-addc-faefd8ac58b6",
   "metadata": {},
   "outputs": [],
   "source": []
  }
 ],
 "metadata": {
  "kernelspec": {
   "display_name": "Python 3 (ipykernel)",
   "language": "python",
   "name": "python3"
  },
  "language_info": {
   "codemirror_mode": {
    "name": "ipython",
    "version": 3
   },
   "file_extension": ".py",
   "mimetype": "text/x-python",
   "name": "python",
   "nbconvert_exporter": "python",
   "pygments_lexer": "ipython3",
   "version": "3.12.7"
  }
 },
 "nbformat": 4,
 "nbformat_minor": 5
}
