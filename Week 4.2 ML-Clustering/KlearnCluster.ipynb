{
 "cells": [
  {
   "cell_type": "code",
   "execution_count": null,
   "id": "eba96953-37eb-4f73-9bf8-22366ab2be7b",
   "metadata": {},
   "outputs": [],
   "source": [
    "import pandas as pd\n",
    "import numpy as np\n",
    "import matplotlib.pyplot as plt"
   ]
  },
  {
   "cell_type": "code",
   "execution_count": null,
   "id": "fc0185be-00a8-4dfc-8dd4-4791b2e94069",
   "metadata": {},
   "outputs": [],
   "source": [
    "dataset = pd.read_csv(\"Mall_Customers.csv\")"
   ]
  },
  {
   "cell_type": "code",
   "execution_count": null,
   "id": "4b935261-c21d-4ae2-8e09-cec0fab6d71e",
   "metadata": {},
   "outputs": [],
   "source": [
    "dataset"
   ]
  },
  {
   "cell_type": "code",
   "execution_count": null,
   "id": "bc897759-0e33-42ff-bdec-7ef4eea7adb6",
   "metadata": {},
   "outputs": [],
   "source": [
    "X= dataset.iloc[:,3:5].values\n",
    "#X=dataset.iloc[:,3:4]"
   ]
  },
  {
   "cell_type": "code",
   "execution_count": null,
   "id": "a7e329a0-22ce-4b2e-befb-90ccbe45bf8d",
   "metadata": {},
   "outputs": [],
   "source": [
    "X"
   ]
  },
  {
   "cell_type": "code",
   "execution_count": null,
   "id": "b4c53237-bb29-4d1b-96f9-5b56069244ea",
   "metadata": {
    "scrolled": true
   },
   "outputs": [],
   "source": [
    "from sklearn.cluster import KMeans\n",
    "list1 = []\n",
    "for i in range(1, 11):\n",
    "    kmeans = KMeans(n_clusters = i, init = 'k-means++', random_state = 42)\n",
    "    kmeans.fit(X)\n",
    "    list1.append(kmeans.inertia_)\n",
    "plt.plot(range(1, 11), list1)\n",
    "plt.title('The Elbow Method')\n",
    "plt.xlabel('Number of clusters')\n",
    "plt.ylabel('WCSS')\n",
    "plt.show()"
   ]
  },
  {
   "cell_type": "code",
   "execution_count": null,
   "id": "773dc8cb-febf-4a6d-b636-4c5a51593676",
   "metadata": {},
   "outputs": [],
   "source": [
    "list1"
   ]
  },
  {
   "cell_type": "code",
   "execution_count": null,
   "id": "29eafcd3-99f1-4c53-a880-bb7c42d2e8ea",
   "metadata": {},
   "outputs": [],
   "source": [
    "from sklearn.cluster import KMeans\n",
    "#kmeans = KMeans(n_clusters = i, init = 'k-means++', random_state = 42) -- Above code says cluster =5.\n",
    "kmeans = KMeans(n_clusters = 5, init = 'k-means++', random_state = 42) \n",
    "y_kmeans = kmeans.fit_predict(X)"
   ]
  },
  {
   "cell_type": "code",
   "execution_count": null,
   "id": "8dbb3204-148d-4f32-8d71-65767142704a",
   "metadata": {},
   "outputs": [],
   "source": [
    "y_kmeans"
   ]
  },
  {
   "cell_type": "code",
   "execution_count": null,
   "id": "7e9e7294-d81d-4f2b-930d-c91c8952e16e",
   "metadata": {},
   "outputs": [],
   "source": [
    "supervised = dataset"
   ]
  },
  {
   "cell_type": "code",
   "execution_count": null,
   "id": "51467631-8737-4241-ad20-e67eb367b0f9",
   "metadata": {},
   "outputs": [],
   "source": [
    "supervised"
   ]
  },
  {
   "cell_type": "code",
   "execution_count": null,
   "id": "cc37f2dd-d003-4fb5-a187-478b3c5d7537",
   "metadata": {},
   "outputs": [],
   "source": [
    "supervised=pd.DataFrame(dataset)\n",
    "#supervised=dataset -- SAme code as above"
   ]
  },
  {
   "cell_type": "code",
   "execution_count": null,
   "id": "e7cd9547-1fcf-4e0f-84d1-17e06651afae",
   "metadata": {},
   "outputs": [],
   "source": [
    "supervised"
   ]
  },
  {
   "cell_type": "code",
   "execution_count": null,
   "id": "3c407965-9c72-4f46-a12c-138da74e4b94",
   "metadata": {},
   "outputs": [],
   "source": [
    "supervised['Cluster_group'] = y_kmeans"
   ]
  },
  {
   "cell_type": "code",
   "execution_count": null,
   "id": "47023b36-720d-4b1e-9d47-b2fbdd817b33",
   "metadata": {},
   "outputs": [],
   "source": [
    "supervised"
   ]
  },
  {
   "cell_type": "code",
   "execution_count": null,
   "id": "5b0f7f37-c3d7-4cb6-9393-8d9b00383228",
   "metadata": {},
   "outputs": [],
   "source": [
    "supervised.to_csv(\"cluster.csv\", index=False)"
   ]
  },
  {
   "cell_type": "code",
   "execution_count": null,
   "id": "f36c542a-920a-45bd-b865-4af475628c87",
   "metadata": {},
   "outputs": [],
   "source": [
    "dir(kmeans)"
   ]
  },
  {
   "cell_type": "code",
   "execution_count": null,
   "id": "195b7f7a-b8a0-4e30-b1f5-cedfce4bac3a",
   "metadata": {},
   "outputs": [],
   "source": [
    "centroids=kmeans.cluster_centers_"
   ]
  },
  {
   "cell_type": "code",
   "execution_count": null,
   "id": "aadf925e-acae-4e89-8d87-41dfd6ad749d",
   "metadata": {},
   "outputs": [],
   "source": [
    "centroids"
   ]
  },
  {
   "cell_type": "code",
   "execution_count": null,
   "id": "f80fc899-e472-431b-a737-17c32e983718",
   "metadata": {},
   "outputs": [],
   "source": [
    "y_kmeans"
   ]
  },
  {
   "cell_type": "code",
   "execution_count": null,
   "id": "9145cf82-4025-4d90-8d06-71953a5e7bf0",
   "metadata": {},
   "outputs": [],
   "source": [
    "supervised.columns[3]"
   ]
  },
  {
   "cell_type": "code",
   "execution_count": null,
   "id": "3e2faa30-8e29-4917-8998-3d6e44656d82",
   "metadata": {},
   "outputs": [],
   "source": [
    "supervised.columns"
   ]
  },
  {
   "cell_type": "code",
   "execution_count": null,
   "id": "a5d2bc29-c453-4d8a-8c60-d525602a3ee2",
   "metadata": {},
   "outputs": [],
   "source": [
    "import seaborn as sns\n",
    "facet=sns.lmplot(data=supervised, x=supervised.columns[3], y=supervised.columns[4],hue=supervised.columns[5],fit_reg=False,legend_out=True)\n"
   ]
  },
  {
   "cell_type": "code",
   "execution_count": null,
   "id": "7fa01573-68ed-4e29-bdb3-cee9ab5c110a",
   "metadata": {},
   "outputs": [],
   "source": [
    "#!pip install seaborn"
   ]
  },
  {
   "cell_type": "code",
   "execution_count": null,
   "id": "bc579291-6ddf-4a1e-a7f2-7555e04ef904",
   "metadata": {},
   "outputs": [],
   "source": []
  }
 ],
 "metadata": {
  "kernelspec": {
   "display_name": "Python 3 (ipykernel)",
   "language": "python",
   "name": "python3"
  },
  "language_info": {
   "codemirror_mode": {
    "name": "ipython",
    "version": 3
   },
   "file_extension": ".py",
   "mimetype": "text/x-python",
   "name": "python",
   "nbconvert_exporter": "python",
   "pygments_lexer": "ipython3",
   "version": "3.12.7"
  }
 },
 "nbformat": 4,
 "nbformat_minor": 5
}
